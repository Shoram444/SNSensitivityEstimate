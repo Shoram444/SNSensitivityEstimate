{
 "cells": [
  {
   "cell_type": "code",
   "execution_count": 1,
   "metadata": {},
   "outputs": [],
   "source": [
    "### A Pluto.jl notebook ###\n",
    "# v0.19.36\n",
    "\n",
    "using Markdown\n",
    "using InteractiveUtils"
   ]
  },
  {
   "cell_type": "code",
   "execution_count": 2,
   "metadata": {},
   "outputs": [
    {
     "name": "stderr",
     "output_type": "stream",
     "text": [
      "\u001b[32m\u001b[1m  Activating\u001b[22m\u001b[39m project at `/sps/nemo/scratch/mpetro/Projects/SNSensitivityEstimate`\n"
     ]
    }
   ],
   "source": [
    "] activate \"/sps/nemo/scratch/mpetro/Projects/SNSensitivityEstimate/\""
   ]
  },
  {
   "cell_type": "code",
   "execution_count": 3,
   "metadata": {},
   "outputs": [
    {
     "name": "stderr",
     "output_type": "stream",
     "text": [
      "\u001b[32m\u001b[1mPrecompiling\u001b[22m\u001b[39m project...\n",
      "\u001b[32m  ✓ \u001b[39m\u001b[90mChain\u001b[39m\n",
      "\u001b[32m  ✓ \u001b[39m\u001b[90mRangeArrays\u001b[39m\n",
      "\u001b[32m  ✓ \u001b[39m\u001b[90mDefaultApplication\u001b[39m\n",
      "\u001b[32m  ✓ \u001b[39m\u001b[90mAbstractFFTs\u001b[39m\n",
      "\u001b[32m  ✓ \u001b[39m\u001b[90mExpressionExplorer\u001b[39m\n",
      "\u001b[32m  ✓ \u001b[39m\u001b[90mCalculus\u001b[39m\n",
      "\u001b[32m  ✓ \u001b[39m\u001b[90mCombinatorics\u001b[39m\n",
      "\u001b[32m  ✓ \u001b[39m\u001b[90mStructTypes\u001b[39m\n",
      "\u001b[32m  ✓ \u001b[39mLaTeXStrings\n",
      "\u001b[32m  ✓ \u001b[39m\u001b[90mIndirectArrays\u001b[39m\n",
      "\u001b[32m  ✓ \u001b[39m\u001b[90mPositiveFactorizations\u001b[39m\n",
      "\u001b[32m  ✓ \u001b[39m\u001b[90mPolygonOps\u001b[39m\n",
      "\u001b[32m  ✓ \u001b[39m\u001b[90mSentinelArrays\u001b[39m\n",
      "\u001b[32m  ✓ \u001b[39m\u001b[90mIteratorInterfaceExtensions\u001b[39m\n",
      "\u001b[32m  ✓ \u001b[39m\u001b[90mTricks\u001b[39m\n",
      "\u001b[32m  ✓ \u001b[39m\u001b[90mTensorCore\u001b[39m\n",
      "\u001b[32m  ✓ \u001b[39m\u001b[90mStatsAPI\u001b[39m\n",
      "\u001b[32m  ✓ \u001b[39m\u001b[90mAbstractLattices\u001b[39m\n",
      "\u001b[32m  ✓ \u001b[39m\u001b[90mCEnum\u001b[39m\n",
      "\u001b[32m  ✓ \u001b[39m\u001b[90mContour\u001b[39m\n",
      "\u001b[32m  ✓ \u001b[39m\u001b[90mPipe\u001b[39m\n",
      "\u001b[32m  ✓ \u001b[39m\u001b[90mConcurrentUtilities\u001b[39m\n",
      "\u001b[32m  ✓ \u001b[39m\u001b[90mTriplotBase\u001b[39m\n",
      "\u001b[32m  ✓ \u001b[39m\u001b[90mIntegerMathUtils\u001b[39m\n",
      "\u001b[32m  ✓ \u001b[39m\u001b[90mArgCheck\u001b[39m\n",
      "\u001b[32m  ✓ \u001b[39m\u001b[90mOffsetArrays\u001b[39m\n",
      "\u001b[32m  ✓ \u001b[39m\u001b[90mMeasures\u001b[39m\n",
      "\u001b[32m  ✓ \u001b[39m\u001b[90mCompilerSupportLibraries_jll\u001b[39m\n",
      "\u001b[32m  ✓ \u001b[39m\u001b[90mFillArrays\u001b[39m\n",
      "\u001b[32m  ✓ \u001b[39m\u001b[90mIterTools\u001b[39m\n",
      "\u001b[32m  ✓ \u001b[39m\u001b[90mFuzzyCompletions\u001b[39m\n",
      "\u001b[32m  ✓ \u001b[39m\u001b[90mPkgVersion\u001b[39m\n",
      "\u001b[32m  ✓ \u001b[39m\u001b[90mCompat\u001b[39m\n",
      "\u001b[32m  ✓ \u001b[39m\u001b[90mDataValueInterfaces\u001b[39m\n",
      "\u001b[32m  ✓ \u001b[39m\u001b[90mLorentzVectors\u001b[39m\n",
      "\u001b[32m  ✓ \u001b[39m\u001b[90mObservables\u001b[39m\n",
      "\u001b[32m  ✓ \u001b[39m\u001b[90mGrisu\u001b[39m\n",
      "\u001b[32m  ✓ \u001b[39m\u001b[90mExproniconLite\u001b[39m\n",
      "\u001b[32m  ✓ \u001b[39m\u001b[90mEnumX\u001b[39m\n",
      "\u001b[32m  ✓ \u001b[39m\u001b[90mRealDot\u001b[39m\n",
      "\u001b[32m  ✓ \u001b[39m\u001b[90mUnzip\u001b[39m\n",
      "\u001b[32m  ✓ \u001b[39m\u001b[90mPidfile\u001b[39m\n",
      "\u001b[32m  ✓ \u001b[39m\u001b[90mDocStringExtensions\u001b[39m\n",
      "\u001b[32m  ✓ \u001b[39m\u001b[90mUnsafePointers\u001b[39m\n",
      "\u001b[32m  ✓ \u001b[39m\u001b[90mAbstractTrees\u001b[39m\n",
      "\u001b[32m  ✓ \u001b[39m\u001b[90mIntervalSets\u001b[39m\n",
      "\u001b[32m  ✓ \u001b[39m\u001b[90mRoundingEmulator\u001b[39m\n",
      "\u001b[32m  ✓ \u001b[39m\u001b[90mURIs\u001b[39m\n",
      "\u001b[32m  ✓ \u001b[39m\u001b[90mSimpleBufferStream\u001b[39m\n",
      "\u001b[32m  ✓ \u001b[39m\u001b[90mIrrationalConstants\u001b[39m\n",
      "\u001b[32m  ✓ \u001b[39m\u001b[90mCustomUnitRanges\u001b[39m\n",
      "\u001b[32m  ✓ \u001b[39m\u001b[90mBitIntegers\u001b[39m\n",
      "\u001b[32m  ✓ \u001b[39m\u001b[90mMsgPack\u001b[39m\n",
      "\u001b[32m  ✓ \u001b[39m\u001b[90mFormatting\u001b[39m\n",
      "\u001b[32m  ✓ \u001b[39m\u001b[90mExceptionUnwrapping\u001b[39m\n",
      "\u001b[32m  ✓ \u001b[39m\u001b[90mProgressMeter\u001b[39m\n",
      "\u001b[32m  ✓ \u001b[39m\u001b[90mExtents\u001b[39m\n",
      "\u001b[32m  ✓ \u001b[39m\u001b[90mBayesHistogram\u001b[39m\n",
      "\u001b[32m  ✓ \u001b[39m\u001b[90mNaNMath\u001b[39m\n",
      "\u001b[32m  ✓ \u001b[39m\u001b[90mLazyModules\u001b[39m\n",
      "\u001b[32m  ✓ \u001b[39m\u001b[90mRatios\u001b[39m\n",
      "\u001b[32m  ✓ \u001b[39m\u001b[90mMultisets\u001b[39m\n",
      "\u001b[32m  ✓ \u001b[39m\u001b[90mRingLists\u001b[39m\n",
      "\u001b[32m  ✓ \u001b[39m\u001b[90mMIMEs\u001b[39m\n",
      "\u001b[32m  ✓ \u001b[39m\u001b[90mDelimitedFiles\u001b[39m\n",
      "\u001b[32m  ✓ \u001b[39m\u001b[90mUnicodeFun\u001b[39m\n",
      "\u001b[32m  ✓ \u001b[39m\u001b[90mLazilyInitializedFields\u001b[39m\n",
      "\u001b[32m  ✓ \u001b[39m\u001b[90mInvertedIndices\u001b[39m\n",
      "\u001b[32m  ✓ \u001b[39m\u001b[90mParameters\u001b[39m\n",
      "\u001b[32m  ✓ \u001b[39m\u001b[90mLRUCache\u001b[39m\n",
      "\u001b[32m  ✓ \u001b[39m\u001b[90mInflate\u001b[39m\n",
      "\u001b[32m  ✓ \u001b[39m\u001b[90mMods\u001b[39m\n",
      "\u001b[32m  ✓ \u001b[39m\u001b[90mAdapt\u001b[39m\n",
      "\u001b[32m  ✓ \u001b[39m\u001b[90mConstructionBase\u001b[39m\n",
      "\u001b[32m  ✓ \u001b[39m\u001b[90mDataAPI\u001b[39m\n",
      "\u001b[32m  ✓ \u001b[39m\u001b[90mComputationalResources\u001b[39m\n",
      "\u001b[32m  ✓ \u001b[39m\u001b[90mBitFlags\u001b[39m\n",
      "\u001b[32m  ✓ \u001b[39m\u001b[90mStaticArraysCore\u001b[39m\n",
      "\u001b[32m  ✓ \u001b[39m\u001b[90mTupleTools\u001b[39m\n",
      "\u001b[32m  ✓ \u001b[39m\u001b[90mPrecompileSignatures\u001b[39m\n",
      "\u001b[32m  ✓ \u001b[39m\u001b[90mLoggingExtras\u001b[39m\n",
      "\u001b[32m  ✓ \u001b[39m\u001b[90mMappedArrays\u001b[39m\n",
      "\u001b[32m  ✓ \u001b[39m\u001b[90mCrayons\u001b[39m\n",
      "\u001b[32m  ✓ \u001b[39m\u001b[90mCodeTracking\u001b[39m\n",
      "\u001b[32m  ✓ \u001b[39m\u001b[90mCommonSubexpressions\u001b[39m\n",
      "\u001b[32m  ✓ \u001b[39m\u001b[90mSimpleTraits\u001b[39m\n",
      "\u001b[32m  ✓ \u001b[39m\u001b[90mMemoization\u001b[39m\n",
      "\u001b[32m  ✓ \u001b[39m\u001b[90mMixers\u001b[39m\n",
      "\u001b[32m  ✓ \u001b[39m\u001b[90mSuiteSparse\u001b[39m\n",
      "\u001b[32m  ✓ \u001b[39m\u001b[90mStatistics\u001b[39m\n",
      "\u001b[32m  ✓ \u001b[39m\u001b[90mWoodburyMatrices\u001b[39m\n",
      "\u001b[32m  ✓ \u001b[39m\u001b[90mRelocatableFolders\u001b[39m\n",
      "\u001b[32m  ✓ \u001b[39m\u001b[90mOpenSSL_jll\u001b[39m\n",
      "\u001b[32m  ✓ \u001b[39m\u001b[90mGraphite2_jll\u001b[39m\n",
      "\u001b[32m  ✓ \u001b[39m\u001b[90mEpollShim_jll\u001b[39m\n",
      "\u001b[32m  ✓ \u001b[39m\u001b[90mLibmount_jll\u001b[39m\n",
      "\u001b[32m  ✓ \u001b[39m\u001b[90mRecipesBase\u001b[39m\n",
      "\u001b[32m  ✓ \u001b[39m\u001b[90mLLVMOpenMP_jll\u001b[39m\n",
      "\u001b[32m  ✓ \u001b[39m\u001b[90mStringManipulation\u001b[39m\n",
      "\u001b[32m  ✓ \u001b[39m\u001b[90mBzip2_jll\u001b[39m\n",
      "\u001b[32m  ✓ \u001b[39m\u001b[90mICU_jll\u001b[39m\n",
      "\u001b[32m  ✓ \u001b[39m\u001b[90mLz4_jll\u001b[39m\n",
      "\u001b[32m  ✓ \u001b[39m\u001b[90mRmath_jll\u001b[39m\n",
      "\u001b[32m  ✓ \u001b[39m\u001b[90mXorg_libXau_jll\u001b[39m\n",
      "\u001b[32m  ✓ \u001b[39m\u001b[90mlibpng_jll\u001b[39m\n",
      "\u001b[32m  ✓ \u001b[39m\u001b[90mlibfdk_aac_jll\u001b[39m\n",
      "\u001b[32m  ✓ \u001b[39m\u001b[90mImath_jll\u001b[39m\n",
      "\u001b[32m  ✓ \u001b[39m\u001b[90mIntelOpenMP_jll\u001b[39m\n",
      "\u001b[32m  ✓ \u001b[39m\u001b[90mxrootdgo_jll\u001b[39m\n",
      "\u001b[32m  ✓ \u001b[39m\u001b[90mLAME_jll\u001b[39m\n",
      "\u001b[32m  ✓ \u001b[39m\u001b[90mLERC_jll\u001b[39m\n",
      "\u001b[32m  ✓ \u001b[39m\u001b[90mfzf_jll\u001b[39m\n",
      "\u001b[32m  ✓ \u001b[39m\u001b[90mEarCut_jll\u001b[39m\n",
      "\u001b[32m  ✓ \u001b[39m\u001b[90mlibdeflate_jll\u001b[39m\n",
      "\u001b[32m  ✓ \u001b[39m\u001b[90mCRlibm_jll\u001b[39m\n",
      "\u001b[32m  ✓ \u001b[39m\u001b[90mJpegTurbo_jll\u001b[39m\n",
      "\u001b[32m  ✓ \u001b[39m\u001b[90mXZ_jll\u001b[39m\n",
      "\u001b[32m  ✓ \u001b[39m\u001b[90mOgg_jll\u001b[39m\n",
      "\u001b[32m  ✓ \u001b[39m\u001b[90mXorg_libXdmcp_jll\u001b[39m\n",
      "\u001b[32m  ✓ \u001b[39m\u001b[90mx265_jll\u001b[39m\n",
      "\u001b[32m  ✓ \u001b[39m\u001b[90mx264_jll\u001b[39m\n",
      "\u001b[32m  ✓ \u001b[39m\u001b[90mlibaom_jll\u001b[39m\n",
      "\u001b[32m  ✓ \u001b[39m\u001b[90mExpat_jll\u001b[39m\n",
      "\u001b[32m  ✓ \u001b[39m\u001b[90mZstd_jll\u001b[39m\n",
      "\u001b[32m  ✓ \u001b[39m\u001b[90mmicromamba_jll\u001b[39m\n",
      "\u001b[32m  ✓ \u001b[39m\u001b[90mLZO_jll\u001b[39m\n",
      "\u001b[32m  ✓ \u001b[39m\u001b[90mOpus_jll\u001b[39m\n",
      "\u001b[32m  ✓ \u001b[39m\u001b[90mXorg_xtrans_jll\u001b[39m\n",
      "\u001b[32m  ✓ \u001b[39m\u001b[90mLibiconv_jll\u001b[39m\n",
      "\u001b[32m  ✓ \u001b[39m\u001b[90mLibffi_jll\u001b[39m\n",
      "\u001b[32m  ✓ \u001b[39m\u001b[90mGumbo_jll\u001b[39m\n",
      "\u001b[32m  ✓ \u001b[39m\u001b[90mLibgpg_error_jll\u001b[39m\n",
      "\u001b[32m  ✓ \u001b[39m\u001b[90misoband_jll\u001b[39m\n",
      "\u001b[32m  ✓ \u001b[39m\u001b[90mWayland_protocols_jll\u001b[39m\n",
      "\u001b[32m  ✓ \u001b[39m\u001b[90mFFTW_jll\u001b[39m\n",
      "\u001b[32m  ✓ \u001b[39m\u001b[90mXorg_libpthread_stubs_jll\u001b[39m\n",
      "\u001b[32m  ✓ \u001b[39m\u001b[90mFriBidi_jll\u001b[39m\n",
      "\u001b[32m  ✓ \u001b[39m\u001b[90mLibuuid_jll\u001b[39m\n",
      "\u001b[32m  ✓ \u001b[39m\u001b[90mCodecZlib\u001b[39m\n",
      "\u001b[32m  ✓ \u001b[39mMeasurements\n",
      "\u001b[32m  ✓ \u001b[39m\u001b[90mInlineStrings\u001b[39m\n",
      "\u001b[32m  ✓ \u001b[39m\u001b[90mTableTraits\u001b[39m\n",
      "\u001b[32m  ✓ \u001b[39m\u001b[90mPermutations\u001b[39m\n",
      "\u001b[32m  ✓ \u001b[39m\u001b[90mHypertextLiteral\u001b[39m\n",
      "\u001b[32m  ✓ \u001b[39m\u001b[90mPrimes\u001b[39m\n",
      "\u001b[32m  ✓ \u001b[39m\u001b[90mCompat → CompatLinearAlgebraExt\u001b[39m\n",
      "\u001b[32m  ✓ \u001b[39m\u001b[90mOpenSpecFun_jll\u001b[39m\n",
      "\u001b[32m  ✓ \u001b[39m\u001b[90mArpack_jll\u001b[39m\n",
      "\u001b[32m  ✓ \u001b[39m\u001b[90mShowoff\u001b[39m\n",
      "\u001b[32m  ✓ \u001b[39mMakieCore\n",
      "\u001b[32m  ✓ \u001b[39m\u001b[90mQuaternions\u001b[39m\n",
      "\u001b[32m  ✓ \u001b[39m\u001b[90mPikaParser\u001b[39m\n",
      "\u001b[32m  ✓ \u001b[39m\u001b[90mLogExpFunctions\u001b[39m\n",
      "\u001b[32m  ✓ \u001b[39m\u001b[90mRegistryInstances\u001b[39m\n",
      "\u001b[32m  ✓ \u001b[39m\u001b[90mConfigurations\u001b[39m\n",
      "\u001b[32m  ✓ \u001b[39m\u001b[90mGeoInterface\u001b[39m\n",
      "\u001b[32m  ✓ \u001b[39m\u001b[90mOffsetArrays → OffsetArraysAdaptExt\u001b[39m\n",
      "\u001b[32m  ✓ \u001b[39m\u001b[90mAutoma\u001b[39m\n",
      "\u001b[32m  ✓ \u001b[39m\u001b[90mPooledArrays\u001b[39m\n",
      "\u001b[32m  ✓ \u001b[39m\u001b[90mDiffResults\u001b[39m\n",
      "\u001b[32m  ✓ \u001b[39m\u001b[90mMissings\u001b[39m\n",
      "\u001b[32m  ✓ \u001b[39m\u001b[90mLatexify\u001b[39m\n",
      "\u001b[32m  ✓ \u001b[39m\u001b[90mSignedDistanceFields\u001b[39m\n",
      "\u001b[32m  ✓ \u001b[39m\u001b[90mPDMats\u001b[39m\n",
      "\u001b[32m  ✓ \u001b[39m\u001b[90mArraysOfArrays\u001b[39m\n",
      "\u001b[32m  ✓ \u001b[39m\u001b[90mDistances\u001b[39m\n",
      "\u001b[32m  ✓ \u001b[39m\u001b[90mAxisAlgorithms\u001b[39m\n",
      "\u001b[32m  ✓ \u001b[39m\u001b[90mIntervalSets → IntervalSetsStatisticsExt\u001b[39m\n",
      "\u001b[32m  ✓ \u001b[39m\u001b[90mHighlights\u001b[39m\n",
      "\u001b[32m  ✓ \u001b[39m\u001b[90mFixedPointNumbers\u001b[39m\n",
      "\u001b[32m  ✓ \u001b[39m\u001b[90mPixman_jll\u001b[39m\n",
      "\u001b[32m  ✓ \u001b[39m\u001b[90mJSON3\u001b[39m\n",
      "\u001b[32m  ✓ \u001b[39m\u001b[90mMalt\u001b[39m\n",
      "\u001b[32m  ✓ \u001b[39m\u001b[90mFreeType2_jll\u001b[39m\n",
      "\u001b[32m  ✓ \u001b[39m\u001b[90mCodecLz4\u001b[39m\n",
      "\u001b[32m  ✓ \u001b[39m\u001b[90mOpenSSL\u001b[39m\n",
      "\u001b[32m  ✓ \u001b[39m\u001b[90mOpenEXR_jll\u001b[39m\n",
      "\u001b[32m  ✓ \u001b[39m\u001b[90mJLFzf\u001b[39m\n",
      "\u001b[32m  ✓ \u001b[39m\u001b[90mRmath\u001b[39m\n",
      "\u001b[32m  ✓ \u001b[39m\u001b[90mCodecXz\u001b[39m\n",
      "\u001b[32m  ✓ \u001b[39m\u001b[90mLibDeflate\u001b[39m\n",
      "\u001b[32m  ✓ \u001b[39m\u001b[90mlibsixel_jll\u001b[39m\n",
      "\u001b[32m  ✓ \u001b[39m\u001b[90mCRlibm\u001b[39m\n",
      "\u001b[32m  ✓ \u001b[39m\u001b[90mlibvorbis_jll\u001b[39m\n",
      "\u001b[32m  ✓ \u001b[39m\u001b[90mMicroMamba\u001b[39m\n",
      "\u001b[32m  ✓ \u001b[39m\u001b[90mUnitful\u001b[39m\n",
      "\u001b[32m  ✓ \u001b[39m\u001b[90mStaticArrays\u001b[39m\n",
      "\u001b[32m  ✓ \u001b[39m\u001b[90mLibtiff_jll\u001b[39m\n",
      "\u001b[32m  ✓ \u001b[39m\u001b[90mXML2_jll\u001b[39m\n",
      "\u001b[32m  ✓ \u001b[39m\u001b[90mGumbo\u001b[39m\n",
      "\u001b[32m  ✓ \u001b[39m\u001b[90mCodecZstd\u001b[39m\n",
      "\u001b[32m  ✓ \u001b[39m\u001b[90mIsoband\u001b[39m\n",
      "\u001b[32m  ✓ \u001b[39m\u001b[90mMeasurements → MeasurementsRecipesBaseExt\u001b[39m\n",
      "\u001b[32m  ✓ \u001b[39m\u001b[90mLibgcrypt_jll\u001b[39m\n",
      "\u001b[32m  ✓ \u001b[39m\u001b[90mTables\u001b[39m\n",
      "\u001b[32m  ✓ \u001b[39m\u001b[90mJuliaInterpreter\u001b[39m\n",
      "\u001b[32m  ✓ \u001b[39m\u001b[90mTiledIteration\u001b[39m\n",
      "\u001b[32m  ✓ \u001b[39m\u001b[90mArpack\u001b[39m\n",
      "\u001b[32m  ✓ \u001b[39m\u001b[90mStackViews\u001b[39m\n",
      "\u001b[32m  ✓ \u001b[39m\u001b[90mChainRulesCore\u001b[39m\n",
      "\u001b[32m  ✓ \u001b[39m\u001b[90mFilePathsBase\u001b[39m\n",
      "\u001b[32m  ✓ \u001b[39m\u001b[90mPaddedViews\u001b[39m\n",
      "\u001b[32m  ✓ \u001b[39m\u001b[90mCatIndices\u001b[39m\n",
      "\u001b[32m  ✓ \u001b[39m\u001b[90mDataStructures\u001b[39m\n",
      "\u001b[32m  ✓ \u001b[39m\u001b[90mArraysOfArrays → ArraysOfArraysStaticArraysCoreExt\u001b[39m\n",
      "\u001b[32m  ✓ \u001b[39m\u001b[90mDistances → DistancesSparseArraysExt\u001b[39m\n",
      "\u001b[32m  ✓ \u001b[39m\u001b[90mRatios → RatiosFixedPointNumbersExt\u001b[39m\n",
      "\u001b[32m  ✓ \u001b[39m\u001b[90mAxisArrays\u001b[39m\n",
      "\u001b[32m  ✓ \u001b[39m\u001b[90mFreeType\u001b[39m\n",
      "\u001b[32m  ✓ \u001b[39m\u001b[90mFontconfig_jll\u001b[39m\n",
      "\u001b[32m  ✓ \u001b[39m\u001b[90mFillArrays → FillArraysPDMatsExt\u001b[39m\n",
      "\u001b[32m  ✓ \u001b[39m\u001b[90mUnitful → ConstructionBaseUnitfulExt\u001b[39m\n",
      "\u001b[32m  ✓ \u001b[39m\u001b[90mAdapt → AdaptStaticArraysExt\u001b[39m\n",
      "\u001b[32m  ✓ \u001b[39m\u001b[90mStaticArrays → StaticArraysStatisticsExt\u001b[39m\n",
      "\u001b[32m  ✓ \u001b[39m\u001b[90mConstructionBase → ConstructionBaseStaticArraysExt\u001b[39m\n",
      "\u001b[32m  ✓ \u001b[39m\u001b[90mColorTypes\u001b[39m\n",
      "\u001b[32m  ✓ \u001b[39m\u001b[90mCondaPkg\u001b[39m\n",
      "\u001b[32m  ✓ \u001b[39m\u001b[90mIntervalArithmetic\u001b[39m\n",
      "\u001b[32m  ✓ \u001b[39m\u001b[90mImageMagick_jll\u001b[39m\n",
      "\u001b[32m  ✓ \u001b[39m\u001b[90mLightXML\u001b[39m\n",
      "\u001b[32m  ✓ \u001b[39m\u001b[90mLittleCMS_jll\u001b[39m\n",
      "\u001b[32m  ✓ \u001b[39m\u001b[90mGettext_jll\u001b[39m\n",
      "\u001b[32m  ✓ \u001b[39m\u001b[90mWayland_jll\u001b[39m\n",
      "\u001b[32m  ✓ \u001b[39m\u001b[90mXSLT_jll\u001b[39m\n",
      "\u001b[32m  ✓ \u001b[39m\u001b[90mTableOperations\u001b[39m\n",
      "\u001b[32m  ✓ \u001b[39m\u001b[90mHTTP\u001b[39m\n",
      "\u001b[32m  ✓ \u001b[39m\u001b[90mAbstractFFTs → AbstractFFTsChainRulesCoreExt\u001b[39m\n",
      "\u001b[32m  ✓ \u001b[39m\u001b[90mChainRulesCore → ChainRulesCoreSparseArraysExt\u001b[39m\n",
      "\u001b[32m  ✓ \u001b[39mDebugger\n",
      "\u001b[32m  ✓ \u001b[39m\u001b[90mMosaicViews\u001b[39m\n",
      "\u001b[32m  ✓ \u001b[39m\u001b[90mFilePaths\u001b[39m\n",
      "\u001b[32m  ✓ \u001b[39m\u001b[90mSortingAlgorithms\u001b[39m\n",
      "\u001b[32m  ✓ \u001b[39m\u001b[90mLogExpFunctions → LogExpFunctionsChainRulesCoreExt\u001b[39m\n",
      "\u001b[32m  ✓ \u001b[39m\u001b[90mStableHashTraits\u001b[39m\n",
      "\u001b[32m  ✓ \u001b[39m\u001b[90mSimplePartitions\u001b[39m\n",
      "\u001b[32m  ✓ \u001b[39m\u001b[90mQuadGK\u001b[39m\n",
      "\u001b[32m  ✓ \u001b[39mPGFPlotsX\n",
      "\u001b[32m  ✓ \u001b[39m\u001b[90mArraysOfArrays → ArraysOfArraysAdaptExt\u001b[39m\n",
      "\u001b[32m  ✓ \u001b[39m\u001b[90mDistances → DistancesChainRulesCoreExt\u001b[39m\n",
      "\u001b[32m  ✓ \u001b[39m\u001b[90mFillArrays → FillArraysStatisticsExt\u001b[39m\n",
      "\u001b[32m  ✓ \u001b[39m\u001b[90mGPUArraysCore\u001b[39m\n",
      "\u001b[32m  ✓ \u001b[39m\u001b[90mConstructionBase → ConstructionBaseIntervalSetsExt\u001b[39m\n"
     ]
    },
    {
     "name": "stdout",
     "output_type": "stream",
     "text": [
      "lld: error: cannot open /pbs/home/m/mpetro/.julia/compiled/v1.10/ArrayInterface/jl_veQzNW: No such file or directory\n",
      "lld: error: cannot open /pbs/home/m/mpetro/.julia/compiled/v1.10/StaticArraysChainRulesCoreExt/jl_N4WNb8: No such file or directory\n"
     ]
    },
    {
     "name": "stderr",
     "output_type": "stream",
     "text": [
      "\n",
      "  \u001b[33m3\u001b[39m dependencies had output during precompilation:\u001b[33m\n",
      "┌ \u001b[39mMKL_jll\u001b[33m\n",
      "│  \u001b[39m\u001b[32m\u001b[1m Downloading\u001b[22m\u001b[39m artifact: MKL\u001b[33m\n",
      "└  \u001b[39m\u001b[33m\n",
      "┌ \u001b[39mStaticArrays → StaticArraysChainRulesCoreExt\u001b[33m\n",
      "│  \u001b[39mERROR: failed to emit output file No space left on device\u001b[33m\n",
      "└  \u001b[39m\u001b[33m\n",
      "┌ \u001b[39mArrayInterface\u001b[33m\n",
      "│  \u001b[39mERROR: failed to emit output file No space left on device\u001b[33m\n",
      "└  \u001b[39m\n"
     ]
    }
   ],
   "source": [
    "] instantiate"
   ]
  },
  {
   "cell_type": "code",
   "execution_count": 4,
   "metadata": {},
   "outputs": [],
   "source": [
    "using DrWatson"
   ]
  },
  {
   "cell_type": "code",
   "execution_count": 5,
   "metadata": {},
   "outputs": [],
   "source": [
    "@quickactivate \"SensitivityEstimate\""
   ]
  },
  {
   "cell_type": "code",
   "execution_count": 6,
   "metadata": {},
   "outputs": [
    {
     "name": "stderr",
     "output_type": "stream",
     "text": [
      "\u001b[32m  ✓ \u001b[39m\u001b[32m\u001b[1mPrecompiling\u001b[22m\u001b[39m\u001b[90mIntegralArrays\u001b[39m\n",
      "\u001b[32m  ✓ \u001b[39m\u001b[90mColors\u001b[39m\n",
      " StatsPlots\n",
      "\u001b[32m  ✓ \u001b[39m\u001b[90mQOI\u001b[39m\n",
      "    PrettyTables\u001b[36m Being precompiled by an async task in this process (pidfile: /pbs/home/m/mpetro/.julia/compiled/v1.10/PrettyTables/kRdcL_MDNYH.ji.pidfile)\u001b[39m\n",
      "\u001b[32m  ✓ \u001b[39m\u001b[90mLoweredCodeUtils\u001b[39m\n",
      "    MKL_jll\u001b[36m Being precompiled by an async task in this process (pidfile: /pbs/home/m/mpetro/.julia/compiled/v1.10/MKL_jll/DHEix_MDNYH.ji.pidfile)\u001b[39m\n",
      "\u001b[32m  ✓ \u001b[39m\u001b[90mStaticArrays → StaticArraysChainRulesCoreExt\u001b[39m\n",
      "\u001b[32m  ✓ \u001b[39m\u001b[90mStructArrays\u001b[39m\n",
      "\u001b[32m  ✓ \u001b[39m\u001b[90mAbstractFFTs → AbstractFFTsTestExt\u001b[39m\n",
      "\u001b[32m  ✓ \u001b[39m\u001b[90mGlib_jll\u001b[39m\n",
      "\u001b[32m  ✓ \u001b[39m\u001b[90mXorg_libxcb_jll\u001b[39m\n",
      "\u001b[32m  ✓ \u001b[39m\u001b[90mWidgets\u001b[39m\n",
      "\u001b[32m  ✓ \u001b[39mStatsBase\n",
      "\u001b[32m  ✓ \u001b[39m\u001b[90mXorg_xcb_util_jll\u001b[39m\n",
      "\u001b[32m  ✓ \u001b[39m\u001b[90mSpecialFunctions\u001b[39m\n",
      "\u001b[32m  ✓ \u001b[39m\u001b[90mXorg_libX11_jll\u001b[39m\n",
      "\u001b[32m  ✓ \u001b[39m\u001b[90mNearestNeighbors\u001b[39m\n",
      "\u001b[32m  ✓ \u001b[39m\u001b[90mXorg_xcb_util_image_jll\u001b[39m\n",
      "\u001b[32m  ✓ \u001b[39m\u001b[90mXorg_xcb_util_keysyms_jll\u001b[39m\n",
      "\u001b[32m  ✓ \u001b[39m\u001b[90mInterpolations\u001b[39m\n",
      "\u001b[32m  ✓ \u001b[39m\u001b[90mMultivariateStats\u001b[39m\n",
      "\u001b[32m  ✓ \u001b[39m\u001b[90mXorg_xcb_util_renderutil_jll\u001b[39m\n",
      "\u001b[32m  ✓ \u001b[39m\u001b[90mXorg_xcb_util_wm_jll\u001b[39m\n",
      "\u001b[32m  ✓ \u001b[39m\u001b[90mXorg_libXrender_jll\u001b[39m\n",
      "\u001b[32m  ✓ \u001b[39m\u001b[90mXorg_libXext_jll\u001b[39m\n",
      "\u001b[32m  ✓ \u001b[39m\u001b[90mSpecialFunctions → SpecialFunctionsChainRulesCoreExt\u001b[39m\n",
      "\u001b[32m  ✓ \u001b[39m\u001b[90mXorg_libXfixes_jll\u001b[39m\n",
      "\u001b[32m  ✓ \u001b[39m\u001b[90mXorg_libxkbfile_jll\u001b[39m\n",
      "\u001b[32m  ✓ \u001b[39m\u001b[90mGeometryBasics\u001b[39m\n",
      "\u001b[32m  ✓ \u001b[39m\u001b[90mLibglvnd_jll\u001b[39m\n",
      "\u001b[32m  ✓ \u001b[39mPrettyTables\n",
      "\u001b[32m  ✓ \u001b[39m\u001b[90mXorg_libXinerama_jll\u001b[39m\n",
      "\u001b[32m  ✓ \u001b[39mPrettyTables\n",
      "\u001b[32m  ✓ \u001b[39m\u001b[90mXorg_libXrandr_jll\u001b[39m\n"
     ]
    },
    {
     "name": "stdout",
     "output_type": "stream",
     "text": [
      "lld: error: cannot open /pbs/home/m/mpetro/.julia/compiled/v1.10/DualNumbers/jl_qPlOFc: No such file or directory\n"
     ]
    },
    {
     "name": "stderr",
     "output_type": "stream",
     "text": [
      "\u001b[33m\u001b[1m┌ \u001b[22m\u001b[39m\u001b[33m\u001b[1mWarning: \u001b[22m\u001b[39mfailed to remove pidfile on close\n",
      "\u001b[33m\u001b[1m│ \u001b[22m\u001b[39m  path = \"/pbs/home/m/mpetro/.julia/compiled/v1.10/DualNumbers/5Lxid_MDNYH.ji.pidfile\"\n",
      "\u001b[33m\u001b[1m│ \u001b[22m\u001b[39m  removed = IOError: unlink(\"/pbs/home/m/mpetro/.julia/compiled/v1.10/DualNumbers/5Lxid_MDNYH.ji.pidfile\"): remote I/O error (EREMOTEIO)\n",
      "\u001b[33m\u001b[1m└ \u001b[22m\u001b[39m\u001b[90m@ FileWatching.Pidfile ~/.julia/juliaup/julia-1.10.0+0.x64.linux.gnu/share/julia/stdlib/v1.10/FileWatching/src/pidfile.jl:342\u001b[39m\n",
      "\n",
      "  \u001b[33m1\u001b[39m dependency had output during precompilation:\u001b[33m\n",
      "┌ \u001b[39mDualNumbers\u001b[33m\n",
      "│  \u001b[39mERROR: failed to emit output file No space left on device\u001b[33m\n",
      "└  \u001b[39m\n",
      "\u001b[36m\u001b[1m[ \u001b[22m\u001b[39m\u001b[36m\u001b[1mInfo: \u001b[22m\u001b[39mPrecompiling StatsPlots [f3b207a7-027a-5e70-b257-86293d7955fd]\n",
      "\u001b[32m  ✓ \u001b[39m\u001b[90mCairo_jll\u001b[39m\n",
      "\u001b[32m  ✓ \u001b[39m\u001b[90mXorg_libXcursor_jll\u001b[39m\n",
      "\u001b[32m  ✓ \u001b[39m\u001b[90mClustering\u001b[39m\n",
      "\u001b[32m  ✓ \u001b[39m\u001b[90mXorg_libXi_jll\u001b[39m\n",
      "\u001b[32m  ✓ \u001b[39m\u001b[90mXorg_xkbcomp_jll\u001b[39m\n",
      "\u001b[91m  ✗ \u001b[39m\u001b[90mMKL_jll\u001b[39m\n",
      "\u001b[32m  ✓ \u001b[39m\u001b[90mColorVectorSpace\u001b[39m\n",
      "\u001b[32m  ✓ \u001b[39m\u001b[90mTiffImages\u001b[39m\n",
      "\u001b[32m  ✓ \u001b[39m\u001b[90mDataFrames\u001b[39m\n",
      "\u001b[33m\u001b[1m┌ \u001b[22m\u001b[39m\u001b[33m\u001b[1mWarning: \u001b[22m\u001b[39mattempting to remove probably stale pidfile\n",
      "\u001b[33m\u001b[1m│ \u001b[22m\u001b[39m  path = \"/pbs/home/m/mpetro/.julia/compiled/v1.10/DualNumbers/5Lxid_MDNYH.ji.pidfile\"\n",
      "\u001b[33m\u001b[1m└ \u001b[22m\u001b[39m\u001b[90m@ FileWatching.Pidfile ~/.julia/juliaup/julia-1.10.0+0.x64.linux.gnu/share/julia/stdlib/v1.10/FileWatching/src/pidfile.jl:244\u001b[39m\n",
      "\u001b[32m\u001b[1mPrecompiling\u001b[22m\u001b[39m FileIOExt\n",
      "\u001b[32m  ✓ \u001b[39m\u001b[90mLatexify → DataFramesExt\u001b[39m\n",
      "\u001b[32m  ✓ \u001b[39m\u001b[90mUnitfulLatexify\u001b[39m\n",
      "\u001b[32m  ✓ \u001b[39m\u001b[90mPlots → FileIOExt\u001b[39m\n",
      "\u001b[32m  ✓ \u001b[39m\u001b[90mPlots → UnitfulExt\u001b[39m\n",
      "  4 dependencies successfully precompiled in 16 seconds. 157 already precompiled.\n",
      "\u001b[36m\u001b[1m[ \u001b[22m\u001b[39m\u001b[36m\u001b[1mInfo: \u001b[22m\u001b[39mPrecompiling IJuliaExt [2f4121a4-3b3a-5ce6-9c5e-1f2673ce168a]\n",
      "\u001b[32m\u001b[1mPrecompiling\u001b[22m\u001b[39m UnROOT\n",
      "    MKL_jll\u001b[36m Being precompiled by an async task in this process (pidfile: /pbs/home/m/mpetro/.julia/compiled/v1.10/MKL_jll/DHEix_MDNYH.ji.pidfile)\u001b[39m\n",
      "\u001b[32m  ✓ \u001b[39m\u001b[90mMeasurements → MeasurementsSpecialFunctionsExt\u001b[39m\n",
      "\u001b[32m  ✓ \u001b[39m\u001b[90mIntervalArithmetic → IntervalArithmeticRecipesBaseExt\u001b[39m\n",
      "\u001b[32m  ✓ \u001b[39m\u001b[90mDiffRules\u001b[39m\n",
      "\u001b[32m  ✓ \u001b[39m\u001b[90mArraysOfArrays → ArraysOfArraysChainRulesCoreExt\u001b[39m\n",
      "\u001b[32m  ✓ \u001b[39m\u001b[90mArrayInterface\u001b[39m\n",
      "\u001b[32m  ✓ \u001b[39m\u001b[90mGraphics\u001b[39m\n",
      "\u001b[32m  ✓ \u001b[39m\u001b[90mAnimations\u001b[39m\n",
      "\u001b[32m  ✓ \u001b[39m\u001b[90mSetfield\u001b[39m\n",
      "\u001b[32m  ✓ \u001b[39m\u001b[90mColorBrewer\u001b[39m\n",
      "\u001b[32m  ✓ \u001b[39m\u001b[90mOpenEXR\u001b[39m\n",
      "\u001b[32m  ✓ \u001b[39m\u001b[90mMeasurements → MeasurementsUnitfulExt\u001b[39m\n",
      "\u001b[32m  ✓ \u001b[39m\u001b[90mPacking\u001b[39m\n",
      "\u001b[32m  ✓ \u001b[39m\u001b[90mShaderAbstractions\u001b[39m\n",
      "\u001b[32m  ✓ \u001b[39m\u001b[90mDistributions → DistributionsTestExt\u001b[39m\n",
      "\u001b[32m  ✓ \u001b[39m\u001b[90mIntervalArithmetic → IntervalArithmeticDiffRulesExt\u001b[39m\n",
      "\u001b[32m  ✓ \u001b[39m\u001b[90mArrayInterface → ArrayInterfaceGPUArraysCoreExt\u001b[39m\n",
      "\u001b[32m  ✓ \u001b[39m\u001b[90mFreeTypeAbstraction\u001b[39m\n",
      "\u001b[32m  ✓ \u001b[39m\u001b[90mSimpleRandom\u001b[39m\n",
      "\u001b[32m  ✓ \u001b[39mFHist\n",
      "\u001b[32m  ✓ \u001b[39m\u001b[90mArrayInterface → ArrayInterfaceStaticArraysCoreExt\u001b[39m\n",
      "\u001b[32m  ✓ \u001b[39m\u001b[90mForwardDiff\u001b[39m\n",
      "\u001b[32m  ✓ \u001b[39m\u001b[90mFiniteDiff\u001b[39m\n",
      "\u001b[32m  ✓ \u001b[39m\u001b[90mExactPredicates\u001b[39m\n",
      "\u001b[32m  ✓ \u001b[39m\u001b[90mGridLayoutBase\u001b[39m\n",
      "\u001b[32m  ✓ \u001b[39m\u001b[90mForwardDiff → ForwardDiffStaticArraysExt\u001b[39m\n",
      "\u001b[32m  ✓ \u001b[39m\u001b[90mFiniteDiff → FiniteDiffStaticArraysExt\u001b[39m\n",
      "\u001b[32m  ✓ \u001b[39m\u001b[90mNLSolversBase\u001b[39m\n",
      "\u001b[91m  ✗ \u001b[39m\u001b[90mMKL_jll\u001b[39m\n",
      "\u001b[32m  ✓ \u001b[39m\u001b[90mMathTeXEngine\u001b[39m\n",
      "\u001b[32m  ✓ \u001b[39m\u001b[90mLineSearches\u001b[39m\n",
      "\u001b[32m  ✓ \u001b[39m\u001b[90mOptim\u001b[39m\n",
      "\u001b[32m  ✓ \u001b[39m\u001b[90mPolynomials\u001b[39m\n",
      "\u001b[32m  ✓ \u001b[39m\u001b[90mImageCore\u001b[39m\n",
      "\u001b[32m  ✓ \u001b[39m\u001b[90mJpegTurbo\u001b[39m\n",
      "\u001b[32m  ✓ \u001b[39m\u001b[90mSixel\u001b[39m\n",
      "\u001b[32m  ✓ \u001b[39m\u001b[90mImageBase\u001b[39m\n",
      "\u001b[32m  ✓ \u001b[39m\u001b[90mPNGFiles\u001b[39m\n",
      "\u001b[32m  ✓ \u001b[39m\u001b[90mImageAxes\u001b[39m\n",
      "\u001b[32m  ✓ \u001b[39m\u001b[90mImageMetadata\u001b[39m\n",
      "\u001b[32m  ✓ \u001b[39m\u001b[90mNetpbm\u001b[39m\n",
      "\u001b[32m  ✓ \u001b[39m\u001b[90mImageIO\u001b[39m\n",
      "\u001b[91m  ✗ \u001b[39m\u001b[90mMKL_jll\u001b[39m\n",
      "\u001b[32m  ✓ \u001b[39m\u001b[90mPolynomials → PolynomialsFFTWExt\u001b[39m\n",
      "\u001b[32m  ✓ \u001b[39m\u001b[90mPolynomials → PolynomialsChainRulesCoreExt\u001b[39m\n",
      "\u001b[32m  ✓ \u001b[39m\u001b[90mPolynomials → PolynomialsMakieCoreExt\u001b[39m\n",
      "\u001b[32m  ✓ \u001b[39m\u001b[90mSimplePolynomials\u001b[39m\n",
      "\u001b[32m  ✓ \u001b[39m\u001b[90mLinearAlgebraX\u001b[39m\n",
      "\u001b[32m  ✓ \u001b[39m\u001b[90mSimpleGraphs\u001b[39m\n",
      "\u001b[32m  ✓ \u001b[39m\u001b[90mDelaunayTriangulation\u001b[39m\n"
     ]
    },
    {
     "name": "stdout",
     "output_type": "stream",
     "text": [
      "lld: error: failed to write to the output file: No space left on device\n"
     ]
    },
    {
     "name": "stderr",
     "output_type": "stream",
     "text": [
      "\n",
      "\u001b[36m\u001b[1m[ \u001b[22m\u001b[39m\u001b[36m\u001b[1mInfo: \u001b[22m\u001b[39mPrecompiling UnROOT [3cd96dde-e98d-4713-81e9-a4a1b0235ce9]\n",
      "\u001b[32m\u001b[1mPrecompiling\u001b[22m\u001b[39m FHistPlotsExt\n",
      "\u001b[91m  ✗ \u001b[39m\u001b[90mMKL_jll\u001b[39m\n"
     ]
    },
    {
     "name": "stdout",
     "output_type": "stream",
     "text": [
      "lld: error: failed to write to the output file: No space left on device\n"
     ]
    },
    {
     "name": "stderr",
     "output_type": "stream",
     "text": [
      "\n",
      "\u001b[36m\u001b[1m[ \u001b[22m\u001b[39m\u001b[36m\u001b[1mInfo: \u001b[22m\u001b[39mPrecompiling FHistPlotsExt [1de79d59-983d-5d48-95ce-9cb7bda22df6]\n",
      "\u001b[32m\u001b[1mPrecompiling\u001b[22m\u001b[39m DataFramesMeta\n",
      "\u001b[32m  ✓ \u001b[39mDataFramesMeta\n",
      "  1 dependency successfully precompiled in 5 seconds. 29 already precompiled.\n",
      "\u001b[32m\u001b[1mPrecompiling\u001b[22m\u001b[39m Revise\n",
      "\u001b[32m  ✓ \u001b[39mRevise\n",
      "  1 dependency successfully precompiled in 10 seconds. 6 already precompiled.\n",
      "\u001b[36m\u001b[1m[ \u001b[22m\u001b[39m\u001b[36m\u001b[1mInfo: \u001b[22m\u001b[39mPrecompiling SensitivityModule [top-level]\n"
     ]
    },
    {
     "data": {
      "text/plain": [
       "Dict{Symbol, Any} with 8 entries:\n",
       "  :isotopeName    => \"Xi037_foil_bulk\"\n",
       "  :activity       => 0.0015±0.0001\n",
       "  :nTotalSim      => 1.0e8\n",
       "  :timeMeas       => 7.884e7\n",
       "  :vertexPosition => \"foil_bulk\"\n",
       "  :amount         => 6.25\n",
       "  :signal         => true\n",
       "  :bins           => 0:5:180"
      ]
     },
     "execution_count": 6,
     "metadata": {},
     "output_type": "execute_result"
    }
   ],
   "source": [
    "begin\n",
    "    using StatsPlots, UnROOT, DataFramesMeta, LaTeXStrings, Revise, StatsBase, FHist, Measurements, PrettyTables\n",
    "    push!(LOAD_PATH, srcdir())\n",
    "    using SensitivityModule\n",
    "    include(scriptsdir(\"Params.jl\"))\n",
    "end"
   ]
  },
  {
   "cell_type": "code",
   "execution_count": 7,
   "metadata": {},
   "outputs": [],
   "source": [
    "begin \n",
    "    _palette = [\"#00a0f9\", \"#ba3030\", \"#22ac74\", \"#707070\", \"#9452bd\", \"#80ff00\", \"#ffcc00\", \"#ff00ff\", \"#00ffff\", \"#cc9900\", \"#2a2727\"]\n",
    "    theme(\n",
    "        :dao;\n",
    "        size = (1200, 800),\n",
    "        legend = :best,\n",
    "        guidefontsize = 16,\n",
    "        tickfontsize = 12,\n",
    "        titlefontsize = 16,\n",
    "        legendfontsize = 12,\n",
    "        left_margin = 4Plots.mm,\n",
    "        right_margin = 8Plots.mm,\n",
    "        top_margin = 4Plots.mm,\n",
    "        bottom_margin = 6Plots.mm,\n",
    "        thickness_scaling = 1.4,\n",
    "        :linewidth => 3,\n",
    "        dpi = 200,\n",
    "        widen = :false,\n",
    "        :markerstrokewidth => 1,\n",
    "        :markerstrokecolor => :black,\n",
    "        :palette => _palette\n",
    "    )\n",
    "end"
   ]
  },
  {
   "cell_type": "code",
   "execution_count": 8,
   "metadata": {},
   "outputs": [
    {
     "data": {
      "text/latex": [
       "\\subsubsection{First we load all the \\texttt{.root} input simulation files:}\n",
       "\\begin{itemize}\n",
       "\\item[1. ] \\textbf{Background processes} : \n",
       "\n",
       "\\end{itemize}\n",
       "\\begin{itemize}\n",
       "\\item Bi214 foil bulk SumE\n",
       "\n",
       "\n",
       "\\item Bi214 foil surface SumE\n",
       "\n",
       "\n",
       "\\item Bi214 PMT bulk SumE\n",
       "\n",
       "\n",
       "\\item Bi214 wire bulk SumE\n",
       "\n",
       "\n",
       "\\item Bi214 wire surface SumE\n",
       "\n",
       "\n",
       "\\item Tl208 foil bulk SumE\n",
       "\n",
       "\n",
       "\\item Tl208 PMT bulk SumE\n",
       "\n",
       "\n",
       "\\item Pa234m foil bulk SumE\n",
       "\n",
       "\n",
       "\\item K40 foil bulk SumE\n",
       "\n",
       "\n",
       "\\item K40 PMT bulk SumE\n",
       "\n",
       "\\end{itemize}\n",
       "\\begin{itemize}\n",
       "\\item[2. ] \\textbf{Signal process}:\n",
       "\n",
       "\\end{itemize}\n",
       "\\begin{quote}\n",
       "\\emph{refined spectrum $\\xi_{31}, \\xi_{51}$} with the following parameters:\n",
       "\n",
       "\\end{quote}\n",
       "\\begin{itemize}\n",
       "\\item $\\xi_{31} = 0.37$\n",
       "\n",
       "\n",
       "\\item $\\xi_{51} = 0.14$\n",
       "\n",
       "\n",
       "\\item $K^{2\\nu} = -0.66$\n",
       "\n",
       "\\end{itemize}\n"
      ],
      "text/markdown": [
       "### First we load all the `.root` input simulation files:\n",
       "\n",
       "1. **Background processes** :\n",
       "\n",
       "  * Bi214 foil bulk SumE\n",
       "  * Bi214 foil surface SumE\n",
       "  * Bi214 PMT bulk SumE\n",
       "  * Bi214 wire bulk SumE\n",
       "  * Bi214 wire surface SumE\n",
       "  * Tl208 foil bulk SumE\n",
       "  * Tl208 PMT bulk SumE\n",
       "  * Pa234m foil bulk SumE\n",
       "  * K40 foil bulk SumE\n",
       "  * K40 PMT bulk SumE\n",
       "\n",
       "2. **Signal process**:\n",
       "\n",
       "> *refined spectrum $\\xi_{31}, \\xi_{51}$* with the following parameters:\n",
       "\n",
       "\n",
       "  * $\\xi_{31} = 0.37$\n",
       "  * $\\xi_{51} = 0.14$\n",
       "  * $K^{2\\nu} = -0.66$\n"
      ],
      "text/plain": [
       "\u001b[1m  First we load all the \u001b[36m.root\u001b[39m input simulation files:\u001b[22m\n",
       "\u001b[1m  –––––––––––––––––––––––––––––––––––––––––––––––––––\u001b[22m\n",
       "\n",
       "    1. \u001b[1mBackground processes\u001b[22m :\n",
       "\n",
       "    •  Bi214 foil bulk SumE\n",
       "\n",
       "    •  Bi214 foil surface SumE\n",
       "\n",
       "    •  Bi214 PMT bulk SumE\n",
       "\n",
       "    •  Bi214 wire bulk SumE\n",
       "\n",
       "    •  Bi214 wire surface SumE\n",
       "\n",
       "    •  Tl208 foil bulk SumE\n",
       "\n",
       "    •  Tl208 PMT bulk SumE\n",
       "\n",
       "    •  Pa234m foil bulk SumE\n",
       "\n",
       "    •  K40 foil bulk SumE\n",
       "\n",
       "    •  K40 PMT bulk SumE\n",
       "\n",
       "    2. \u001b[1mSignal process\u001b[22m:\n",
       "\n",
       "  │  \u001b[4mrefined spectrum \u001b[35m\\xi_{31}, \\xi_{51}\u001b[39m\u001b[24m with the following parameters:\n",
       "\n",
       "    •  \u001b[35m\\xi_{31} = 0.37\u001b[39m\n",
       "\n",
       "    •  \u001b[35m\\xi_{51} = 0.14\u001b[39m\n",
       "\n",
       "    •  \u001b[35mK^{2\\nu} = -0.66\u001b[39m"
      ]
     },
     "execution_count": 8,
     "metadata": {},
     "output_type": "execute_result"
    }
   ],
   "source": [
    "md\"\"\"\n",
    "### First we load all the `.root` input simulation files:\n",
    "1. **Background processes** : \n",
    "+ Bi214 foil bulk SumE\n",
    "+ Bi214 foil surface SumE\n",
    "+ Bi214 PMT bulk SumE\n",
    "+ Bi214 wire bulk SumE\n",
    "+ Bi214 wire surface SumE\n",
    "+ Tl208 foil bulk SumE\n",
    "+ Tl208 PMT bulk SumE\n",
    "+ Pa234m foil bulk SumE\n",
    "+ K40 foil bulk SumE\n",
    "+ K40 PMT bulk SumE\n",
    "2. **Signal process**:\n",
    "> *refined spectrum $\\xi_{31}, \\xi_{51}$* with the following parameters:\n",
    "- ``\\xi_{31} = 0.37``\n",
    "- ``\\xi_{51} = 0.14``\n",
    "- ``K^{2\\nu} = -0.66``\n",
    "\"\"\""
   ]
  },
  {
   "cell_type": "code",
   "execution_count": 9,
   "metadata": {},
   "outputs": [
    {
     "data": {
      "text/plain": [
       "ffrf (generic function with 1 method)"
      ]
     },
     "execution_count": 9,
     "metadata": {},
     "output_type": "execute_result"
    }
   ],
   "source": [
    "# hack for quick fill from root\n",
    "ffrf(file) = fill_from_root_file(file, \"tree\", [\"phi\", \"reconstructedEnergy1\", \"reconstructedEnergy2\"] ) "
   ]
  },
  {
   "cell_type": "code",
   "execution_count": 10,
   "metadata": {},
   "outputs": [
    {
     "ename": "LoadError",
     "evalue": "SystemError: opening file /sps/nemo/scratch/mpetro/Projects/SNSensitivityEstimate/data/sims/Bi214_foil_bulk_1e8E.root: No such file or directory",
     "output_type": "error",
     "traceback": [
      "SystemError: opening file /sps/nemo/scratch/mpetro/Projects/SNSensitivityEstimate/data/sims/Bi214_foil_bulk_1e8E.root: No such file or directory",
      "",
      "Stacktrace:",
      " [1] ROOTFile(filename::String; customstructs::Dict{String, DataType})",
      "   @ UnROOT ~/.julia/packages/UnROOT/UTbmc/src/root.jl:75",
      " [2] ROOTFile(filename::String)",
      "   @ UnROOT ~/.julia/packages/UnROOT/UTbmc/src/root.jl:65",
      " [3] top-level scope",
      "   @ In[10]:3"
     ]
    }
   ],
   "source": [
    "begin\n",
    "#Bi214\n",
    "    Bi214_foil_bulk = \n",
    "        ROOTFile(datadir(\"sims/Bi214_foil_bulk_1e8E.root\")) |> ffrf\n",
    "    Bi214_foil_surface = \n",
    "        ROOTFile(datadir(\"sims/Bi214_foil_surface_1e7E.root\")) |> ffrf\n",
    "    Bi214_PMT_bulk = \n",
    "        ROOTFile(datadir(\"sims/Bi214_PMT_bulk_1e7E.root\")) |> ffrf\n",
    "    Bi214_wire_bulk = \n",
    "        ROOTFile(datadir(\"sims/Bi214_wire_bulk_1e7E.root\")) |> ffrf\n",
    "    Bi214_wire_surface = \n",
    "        ROOTFile(datadir(\"sims/Bi214_wire_surface_1e7E.root\")) |> ffrf\n",
    "\n",
    "#Tl208\n",
    "    Tl208_foil_bulk = \n",
    "        ROOTFile(datadir(\"sims/Tl208_foil_bulk_1e8E.root\")) |> ffrf\n",
    "    Tl208_PMT_bulk = \n",
    "        ROOTFile(datadir(\"sims/Tl208_PMT_bulk_1e8E.root\")) |> ffrf\n",
    "\n",
    "#Pa234m\n",
    "    Pa234m_foil_bulk = \n",
    "        ROOTFile(datadir(\"sims/Pa234m_foil_bulk_1e8E.root\")) |> ffrf\n",
    "\n",
    "#K40\n",
    "    K40_foil_bulk = \n",
    "        ROOTFile(datadir(\"sims/K40_foil_bulk_1e8E.root\")) |> ffrf\n",
    "    K40_PMT_bulk = \n",
    "        ROOTFile(datadir(\"sims/K40_PMT_bulk_1e8E.root\")) |> ffrf\n",
    "\n",
    "#Xi31\n",
    "    Xi037_foil_bulk = \n",
    "        ROOTFile(datadir(\"sims/Xi037_foil_bulk_1e8E.root\")) |> ffrf \n",
    "end"
   ]
  },
  {
   "cell_type": "code",
   "execution_count": 11,
   "metadata": {},
   "outputs": [
    {
     "data": {
      "text/latex": [
       "\\subsubsection{Now we transform the raw inptu data into \\texttt{DataFrame} format for easier handling.}\n",
       "Here we also import only three variables: $E_1$, $E_2$ and $\\phi$\n",
       "\n"
      ],
      "text/markdown": [
       "### Now we transform the raw inptu data into `DataFrame` format for easier handling.\n",
       "\n",
       "Here we also import only three variables: $E_1$, $E_2$ and $\\phi$\n"
      ],
      "text/plain": [
       "\u001b[1m  Now we transform the raw inptu data into \u001b[36mDataFrame\u001b[39m format for easier\u001b[22m\n",
       "\u001b[1m  handling.\u001b[22m\n",
       "\u001b[1m  ––––––––––––––––––––––––––\u001b[22m\n",
       "\n",
       "  Here we also import only three variables: \u001b[35mE_1\u001b[39m, \u001b[35mE_2\u001b[39m and \u001b[35m\\phi\u001b[39m"
      ]
     },
     "execution_count": 11,
     "metadata": {},
     "output_type": "execute_result"
    }
   ],
   "source": [
    "md\"\"\"\n",
    "### Now we transform the raw inptu data into `DataFrame` format for easier handling.\n",
    "Here we also import only three variables: ``E_1``, ``E_2`` and ``\\phi``\n",
    "\"\"\""
   ]
  },
  {
   "cell_type": "code",
   "execution_count": 12,
   "metadata": {},
   "outputs": [
    {
     "data": {
      "text/markdown": [
       "### Next we import all the important parameters for the analysis.\n",
       "\n",
       "The import itself has already been done in the 3rd cell by the `include(scriptsdit(\"Params.jl\"))` command. Now we analyse what's inside.\n",
       "\n",
       "The file `Params.jl` contains all the input constants that will be used in the analysis. These are divided into groups:\n",
       "\n",
       "  * **Detector Parameters** (Dict variable `SNParams`): \n",
       "\n",
       "      * Nₐ = 6.02214e23 $\\rightarrow$ Avogadro's number in [1/mol]\n",
       "      * W = 0.08192 $\\rightarrow$ Se82 molar mass in [kg/mol]\n",
       "      * a = 0.99 $\\rightarrow$ abundance/foil enrichment; check number\n",
       "      * foilMass = 6.25 $\\rightarrow$ foil mass in [kg]\n",
       "      * PMTGlassMass => 286 $\\rightarrow$ PMT glass mass in [kg]\n",
       "      * wireBulkMass = 20 $\\rightarrow$ DUMMY VALUE!! mass of the tracker wires in [kg]\n",
       "      * t = 7.884e7 $\\rightarrow$ measurement time in [s]\n",
       "      * tYear = 2.5 $\\rightarrow$ measurement time in [y]\n",
       "      * SeThalf =  2.961e27 ± 5.4e25 $\\rightarrow$ Se82 half life **in [s]**, results from NEMO-3\n",
       "  * **Activity Parameters** (Dict variables `BkgActivityParams` and `SigActivityParams`):\n",
       "\n",
       "      * **Background** (Taken from NEMO-3 paper, SN measurements, presentations, mock)\n",
       "\n",
       "          * :Bi214 foil bulk => 0.0003 Bq/kg\n",
       "          * :Tl208 foil bulk => 5.4e-5 Bq/kg\n",
       "          * :Pa234m foil bulk => 0.0173 ± 0.0001 Bq/kg\n",
       "          * :K40 foil bulk => 0.0587 ± 0.0001 Bq/kg\n",
       "          * :Bi214 PMT bulk => 0.49 Bq/kg\n",
       "          * :Tl208 PMT bulk => 0.145 Bq/kg\n",
       "          * :K40 PMT bulk => 1.46 Bq/kg\n",
       "          * :Bi214 wires => 0.00015 Bq/kg\n",
       "      * **Signal** \n",
       "\n",
       "          * :Xi037*foil*bulk => 0.0015 ± 0.0001 Bq/kg # a mock value is used here, the activity in reality is the free parameter of this analysis\n",
       "  * **Histogram Parameters** which depend on the analysis channel:\n",
       "\n",
       "      * Sum energy => 0:100:3500\n",
       "      * Single energy => 0:100:3500\n",
       "      * Phi => 0:5:180\n",
       "\n",
       "Lastly, for obtaining efficiencies, the histograms are divided by the `nTotalSim` parameter representing the total number of simulated events. Each process has it's own nTotalSim value associated with it.\n"
      ],
      "text/plain": [
       "\u001b[1m  Next we import all the important parameters for the analysis.\u001b[22m\n",
       "\u001b[1m  –––––––––––––––––––––––––––––––––––––––––––––––––––––––––––––\u001b[22m\n",
       "\n",
       "  The import itself has already been done in the 3rd cell by the\n",
       "  \u001b[36minclude(scriptsdit(\"Params.jl\"))\u001b[39m command. Now we analyse what's inside.\n",
       "\n",
       "  The file \u001b[36mParams.jl\u001b[39m contains all the input constants that will be used in the\n",
       "  analysis. These are divided into groups:\n",
       "\n",
       "    •  \u001b[1mDetector Parameters\u001b[22m (Dict variable \u001b[36mSNParams\u001b[39m):\n",
       "       • Nₐ = 6.02214e23 \u001b[35m\\rightarrow\u001b[39m Avogadro's number in [1/mol]\n",
       "       • W = 0.08192 \u001b[35m\\rightarrow\u001b[39m Se82 molar mass in [kg/mol]\n",
       "       • a = 0.99 \u001b[35m\\rightarrow\u001b[39m abundance/foil enrichment; check\n",
       "       number\n",
       "       • foilMass = 6.25 \u001b[35m\\rightarrow\u001b[39m foil mass in [kg]\n",
       "       • PMTGlassMass => 286 \u001b[35m\\rightarrow\u001b[39m PMT glass mass in [kg]\n",
       "       • wireBulkMass = 20 \u001b[35m\\rightarrow\u001b[39m DUMMY VALUE!! mass of the\n",
       "       tracker wires in [kg]\n",
       "       • t = 7.884e7 \u001b[35m\\rightarrow\u001b[39m measurement time in [s]\n",
       "       • tYear = 2.5 \u001b[35m\\rightarrow\u001b[39m measurement time in [y]\n",
       "       • SeThalf = 2.961e27 ± 5.4e25 \u001b[35m\\rightarrow\u001b[39m Se82 half life\n",
       "       \u001b[1min [s]\u001b[22m, results from NEMO-3\n",
       "\n",
       "    •  \u001b[1mActivity Parameters\u001b[22m (Dict variables \u001b[36mBkgActivityParams\u001b[39m and\n",
       "       \u001b[36mSigActivityParams\u001b[39m):\n",
       "       • \u001b[1mBackground\u001b[22m (Taken from NEMO-3 paper, SN measurements,\n",
       "       presentations, mock)\n",
       "       • :Bi214 foil bulk => 0.0003 Bq/kg\n",
       "       • :Tl208 foil bulk => 5.4e-5 Bq/kg\n",
       "       • :Pa234m foil bulk => 0.0173 ± 0.0001 Bq/kg\n",
       "       • :K40 foil bulk => 0.0587 ± 0.0001 Bq/kg\n",
       "       • :Bi214 PMT bulk => 0.49 Bq/kg\n",
       "       • :Tl208 PMT bulk => 0.145 Bq/kg\n",
       "       • :K40 PMT bulk => 1.46 Bq/kg\n",
       "       • :Bi214 wires => 0.00015 Bq/kg\n",
       "       • \u001b[1mSignal\u001b[22m\n",
       "       • :Xi037\u001b[4mfoil\u001b[24mbulk => 0.0015 ± 0.0001 Bq/kg # a\n",
       "       mock value is used here, the activity in\n",
       "       reality is the free parameter of this analysis\n",
       "\n",
       "    •  \u001b[1mHistogram Parameters\u001b[22m which depend on the analysis channel:\n",
       "       • Sum energy => 0:100:3500\n",
       "       • Single energy => 0:100:3500\n",
       "       • Phi => 0:5:180\n",
       "\n",
       "  Lastly, for obtaining efficiencies, the histograms are divided by the\n",
       "  \u001b[36mnTotalSim\u001b[39m parameter representing the total number of simulated events. Each\n",
       "  process has it's own nTotalSim value associated with it."
      ]
     },
     "execution_count": 12,
     "metadata": {},
     "output_type": "execute_result"
    }
   ],
   "source": [
    "md\"\"\"\n",
    "### Next we import all the important parameters for the analysis. \n",
    "The import itself has already been done in the 3rd cell by the `include(scriptsdit(\"Params.jl\"))` command. Now we analyse what's inside.\n",
    "\n",
    "The file `Params.jl` contains all the input constants that will be used in the analysis. These are divided into groups:\n",
    "* **Detector Parameters** (Dict variable `SNParams`): \n",
    "  * Nₐ = $(SNparams[\"Nₐ\"]) ``\\rightarrow`` Avogadro's number in [1/mol]\n",
    "  * W = $(SNparams[\"W\"]) ``\\rightarrow`` Se82 molar mass in [kg/mol]\n",
    "  * a = $(SNparams[\"a\"]) ``\\rightarrow`` abundance/foil enrichment; check number\n",
    "  * foilMass = $(SNparams[\"foilMass\"]) ``\\rightarrow`` foil mass in [kg]\n",
    "  * PMTGlassMass => $(SNparams[\"PMTGlassMass\"]) ``\\rightarrow`` PMT glass mass in [kg]\n",
    "  * wireBulkMass = $(SNparams[\"wireBulkMass\"]) ``\\rightarrow`` DUMMY VALUE!! mass of the tracker wires in [kg]\n",
    "  * t = $(SNparams[\"t\"]) ``\\rightarrow`` measurement time in [s]\n",
    "  * tYear = $(SNparams[\"tYear\"]) ``\\rightarrow`` measurement time in [y]\n",
    "  * SeThalf =  $(round(SNparams[\"SeThalf\"], sigdigits = 4)) ``\\rightarrow`` Se82 half life **in [s]**, results from NEMO-3\n",
    "\n",
    "* **Activity Parameters** (Dict variables `BkgActivityParams` and `SigActivityParams`):\n",
    "  * **Background** (Taken from NEMO-3 paper, SN measurements, presentations, mock)\n",
    "    * :Bi214 foil bulk => $(BkgActivityParams[:Bi214_foil_bulk]) Bq/kg\n",
    "    * :Tl208 foil bulk => $(BkgActivityParams[:Tl208_foil_bulk]) Bq/kg\n",
    "    * :Pa234m foil bulk => $(BkgActivityParams[:Pa234m_foil_bulk]) Bq/kg\n",
    "    * :K40 foil bulk => $(BkgActivityParams[:K40_foil_bulk]) Bq/kg\n",
    "    * :Bi214 PMT bulk => $(round(BkgActivityParams[:Bi214_PMT_bulk], sigdigits=3)) Bq/kg\n",
    "    * :Tl208 PMT bulk => $(round(BkgActivityParams[:Tl208_PMT_bulk], sigdigits =3)) Bq/kg\n",
    "    * :K40 PMT bulk => $(round(BkgActivityParams[:K40_PMT_bulk], sigdigits = 3)) Bq/kg\n",
    "    * :Bi214 wires => $(BkgActivityParams[:Bi214_wire_surface]) Bq/kg\n",
    "\n",
    "  * **Signal** \n",
    "    * :Xi037_foil_bulk => $(SigActivityParams[:Xi037_foil_bulk]) Bq/kg # a mock value is used here, the activity in reality is the free parameter of this analysis\n",
    "\n",
    "* **Histogram Parameters** which depend on the analysis channel:\n",
    "  * Sum energy => $(sumEParams[:binning])\n",
    "  * Single energy => $(singleEParams[:binning])\n",
    "  * Phi => $(phiParams[:binning])\n",
    "\n",
    "Lastly, for obtaining efficiencies, the histograms are divided by the `nTotalSim` parameter representing the total number of simulated events. Each process has it's own nTotalSim value associated with it.\n",
    "\"\"\""
   ]
  },
  {
   "cell_type": "code",
   "execution_count": 13,
   "metadata": {},
   "outputs": [
    {
     "data": {
      "text/latex": [
       "\\subsubsection{Before starting the actual analysis, let's look at the raw data:}\n",
       "(for now we look only at the sum energy channel)\n",
       "\n",
       "Below, the \\textbf{normalized Sum Energy spectra} for each process are depicted. It can be seen that there is quite a bit of overlap over the whole range. However, the picture changes (slightly) if we scale the spectra according to their activities and measurement time, thus obtaining an \\textbf{estimate} of the real spectrum, which SuperNEMO will measure. (Considering only the depicted processes...)\n",
       "\n"
      ],
      "text/markdown": [
       "### Before starting the actual analysis, let's look at the raw data:\n",
       "\n",
       "(for now we look only at the sum energy channel)\n",
       "\n",
       "Below, the **normalized Sum Energy spectra** for each process are depicted. It can be seen that there is quite a bit of overlap over the whole range. However, the picture changes (slightly) if we scale the spectra according to their activities and measurement time, thus obtaining an **estimate** of the real spectrum, which SuperNEMO will measure. (Considering only the depicted processes...)\n"
      ],
      "text/plain": [
       "\u001b[1m  Before starting the actual analysis, let's look at the raw data:\u001b[22m\n",
       "\u001b[1m  ––––––––––––––––––––––––––––––––––––––––––––––––––––––––––––––––\u001b[22m\n",
       "\n",
       "  (for now we look only at the sum energy channel)\n",
       "\n",
       "  Below, the \u001b[1mnormalized Sum Energy spectra\u001b[22m for each process are depicted. It\n",
       "  can be seen that there is quite a bit of overlap over the whole range.\n",
       "  However, the picture changes (slightly) if we scale the spectra according to\n",
       "  their activities and measurement time, thus obtaining an \u001b[1mestimate\u001b[22m of the\n",
       "  real spectrum, which SuperNEMO will measure. (Considering only the depicted\n",
       "  processes...)"
      ]
     },
     "execution_count": 13,
     "metadata": {},
     "output_type": "execute_result"
    }
   ],
   "source": [
    "md\"\"\"\n",
    "### Before starting the actual analysis, let's look at the raw data:\n",
    "(for now we look only at the sum energy channel)\n",
    "\n",
    "Below, the **normalized Sum Energy spectra** for each process are depicted. It can be seen that there is quite a bit of overlap over the whole range. However, the picture changes (slightly) if we scale the spectra according to their activities and measurement time, thus obtaining an **estimate** of the real spectrum, which SuperNEMO will measure. (Considering only the depicted processes...)\n",
    "\"\"\""
   ]
  },
  {
   "cell_type": "code",
   "execution_count": 14,
   "metadata": {},
   "outputs": [
    {
     "ename": "LoadError",
     "evalue": "UndefVarError: `Xi037_foil_bulk` not defined",
     "output_type": "error",
     "traceback": [
      "UndefVarError: `Xi037_foil_bulk` not defined",
      "",
      "Stacktrace:",
      " [1] (::var\"#1#2\")()",
      "   @ Main ./In[14]:13",
      " [2] with(::var\"#1#2\"; scalefonts::Nothing, kw::@Kwargs{legend::Symbol, bins::StepRange{Int64, Int64}, thickness_scaling::Float64, lw::Int64, right_margin::Measures.AbsoluteLength, size::Tuple{Int64, Int64}, norm::Bool, title::String})",
      "   @ Plots ~/.julia/packages/Plots/sxUvK/src/utils.jl:689",
      " [3] top-level scope",
      "   @ In[14]:1"
     ]
    }
   ],
   "source": [
    "with(\n",
    "\n",
    "        legend =:best, \n",
    "        bins = sumEParams[:binning], \n",
    "        thickness_scaling = 1.4,\n",
    "        lw = 4,\n",
    "        right_margin=12Plots.mm,\n",
    "        size =(1200, 800),\n",
    "        norm = :true,\n",
    "        title = \"Sum energy normalized spectra\",\n",
    "    ) do\n",
    "    \n",
    "    stephist(\n",
    "        Xi037_foil_bulk.reconstructedEnergy1 .+ Xi037_foil_bulk.reconstructedEnergy2,\n",
    "        label = \"refined \"*L\"2\\nu\\beta\\beta\", \n",
    "        fill =0, \n",
    "        fa = 0.7, \n",
    "        fillstyle = :cross\n",
    "    )\n",
    "    \n",
    "    stephist!(\n",
    "        Bi214_foil_bulk.reconstructedEnergy1 .+ Bi214_foil_bulk.reconstructedEnergy2,label = \"Bi214_foil_bulk\", \n",
    "    )\n",
    "    stephist!(\n",
    "        Bi214_foil_surface.reconstructedEnergy1 .+ Bi214_foil_surface.reconstructedEnergy2,label = \"Bi214_foil_surface\", \n",
    "    )\n",
    "    stephist!(\n",
    "        Bi214_PMT_bulk.reconstructedEnergy1 .+ Bi214_PMT_bulk.reconstructedEnergy2,label = \"Bi214_PMT_bulk\", \n",
    "    )\n",
    "    stephist!(\n",
    "        Bi214_wire_bulk.reconstructedEnergy1 .+ Bi214_wire_bulk.reconstructedEnergy2,label = \"Bi214_wire_bulk\", \n",
    "    )\n",
    "    stephist!(\n",
    "        Bi214_wire_surface.reconstructedEnergy1 .+ Bi214_wire_surface.reconstructedEnergy2,label = \"Bi214_wire_surface\", \n",
    "    )\n",
    "    stephist!(\n",
    "        Tl208_foil_bulk.reconstructedEnergy1 .+ Tl208_foil_bulk.reconstructedEnergy2,label = \"Tl208_foil_bulk\", \n",
    "    )\n",
    "    stephist!(\n",
    "        Tl208_PMT_bulk.reconstructedEnergy1 .+ Tl208_PMT_bulk.reconstructedEnergy2,label = \"Tl208_PMT_bulk\", \n",
    "    )\n",
    "    stephist!(\n",
    "        Pa234m_foil_bulk.reconstructedEnergy1 .+ Pa234m_foil_bulk.reconstructedEnergy2,label = \"Pa234m_foil_bulk\", \n",
    "    )\n",
    "    stephist!(\n",
    "        K40_PMT_bulk.reconstructedEnergy1 .+ K40_PMT_bulk.reconstructedEnergy2,label = \"K40_PMT_bulk\", \n",
    "    )\n",
    "    stephist!(\n",
    "        K40_foil_bulk.reconstructedEnergy1 .+ K40_foil_bulk.reconstructedEnergy2,label = \"K40_foil_bulk\", \n",
    "        xlabel = L\"E_{sum} \"*\"[keV]\", \n",
    "        ylabel = \"normalized countrate \" *L\"[%$(step(sumEParams[:binning])) \\textrm{keV^{-1}}]\", \n",
    "        xlims = (0,4500)\n",
    "        \n",
    "    )\n",
    "\n",
    "    safesave(plotsdir(\"SumE\", \"Normalized_hist_total_spectrum.pdf\"), current())\n",
    "    safesave(plotsdir(\"SumE\", \"Normalized_hist_total_spectrum.png\"), current())\n",
    "    \n",
    "    current()\n",
    "end"
   ]
  },
  {
   "cell_type": "code",
   "execution_count": 15,
   "metadata": {},
   "outputs": [
    {
     "data": {
      "text/latex": [
       "\\subsubsection{Now the estimated total spectrum as would be seen by SuperNEMO:}\n",
       "The estimated \\textbf{total} counts for the full spectrum for each process can be calculated as:  $$n = A * t * m * \\varepsilon$$\n",
       "\n",
       "With the previously summarized parameters this is:\n",
       "\n"
      ],
      "text/markdown": [
       "### Now the estimated total spectrum as would be seen by SuperNEMO:\n",
       "\n",
       "The estimated **total** counts for the full spectrum for each process can be calculated as:  $$n = A * t * m * \\varepsilon$$\n",
       "\n",
       "With the previously summarized parameters this is:\n"
      ],
      "text/plain": [
       "\u001b[1m  Now the estimated total spectrum as would be seen by SuperNEMO:\u001b[22m\n",
       "\u001b[1m  –––––––––––––––––––––––––––––––––––––––––––––––––––––––––––––––\u001b[22m\n",
       "\n",
       "  The estimated \u001b[1mtotal\u001b[22m counts for the full spectrum for each process can be\n",
       "  calculated as: \u001b[35m$n = A * t * m * \\varepsilon$\u001b[39m\n",
       "\n",
       "  With the previously summarized parameters this is:"
      ]
     },
     "execution_count": 15,
     "metadata": {},
     "output_type": "execute_result"
    }
   ],
   "source": [
    "md\"\"\"\n",
    "### Now the estimated total spectrum as would be seen by SuperNEMO:\n",
    "The estimated **total** counts for the full spectrum for each process can be calculated as:\n",
    " ``$n = A * t * m * \\varepsilon$``\n",
    "\n",
    "With the previously summarized parameters this is:\n",
    "\"\"\""
   ]
  },
  {
   "cell_type": "code",
   "execution_count": 16,
   "metadata": {},
   "outputs": [
    {
     "data": {
      "text/plain": [
       "get_isotope_details (generic function with 1 method)"
      ]
     },
     "execution_count": 16,
     "metadata": {},
     "output_type": "execute_result"
    }
   ],
   "source": [
    "function get_isotope_details( activityParams, SNParams, simParams, isotope, dfData )\n",
    "    a = activityParams[isotope]\n",
    "    m = if( occursin(\"foil_bulk\", string(isotope)))\n",
    "        SNParams[\"foilMass\"]\n",
    "    elseif( occursin(\"surface\", string(isotope)))\n",
    "        SNParams[\"gasVolume\"]\n",
    "    elseif( occursin(\"PMT_bulk\", string(isotope)))\n",
    "        SNParams[\"PMTGlassMass\"]\n",
    "    elseif( occursin(\"wire_bulk\", string(isotope)))\n",
    "        SNParams[\"wireBulkMass\"]\n",
    "    end\n",
    "    t = SNParams[\"t\"]\n",
    "    nTotSim = simParams[isotope]\n",
    "    ε = nrow(dfData) / nTotSim\n",
    "\n",
    "    nExpTot = a*m*t*ε\n",
    "\n",
    "    return a, m, t, ε, nExpTot, nTotSim \n",
    "end\n",
    "    \n",
    "        "
   ]
  },
  {
   "cell_type": "code",
   "execution_count": 17,
   "metadata": {},
   "outputs": [
    {
     "data": {
      "text/plain": [
       "print_isotope_details (generic function with 1 method)"
      ]
     },
     "execution_count": 17,
     "metadata": {},
     "output_type": "execute_result"
    }
   ],
   "source": [
    "function print_isotope_details( activityParams, SNParams, simParams, isotope, dfData )\n",
    "    (a, m, t, ε, nExpTot, nTotSim) = get_isotope_details( activityParams, SNParams, simParams, isotope, dfData ) \n",
    "\n",
    "    a = round(a, sigdigits=3)\n",
    "    ε = round(ε*100, sigdigits=3)\n",
    "    m = round(m, sigdigits=3)\n",
    "    nExpTot = round(nExpTot, sigdigits=3)\n",
    "    \n",
    "    \"|$isotope | $nExpTot | $ε | $a | $m |\"\n",
    "end"
   ]
  },
  {
   "cell_type": "code",
   "execution_count": 18,
   "metadata": {},
   "outputs": [
    {
     "ename": "LoadError",
     "evalue": "UndefVarError: `Bi214_foil_bulk` not defined",
     "output_type": "error",
     "traceback": [
      "UndefVarError: `Bi214_foil_bulk` not defined",
      "",
      "Stacktrace:",
      " [1] top-level scope",
      "   @ ./In[18]:15"
     ]
    }
   ],
   "source": [
    "begin\n",
    "    isotope_df = DataFrame()\n",
    "    bkgIsotopes = [\n",
    "        :Bi214_foil_bulk,\n",
    "        :Bi214_foil_surface,\n",
    "        :Bi214_PMT_bulk,\n",
    "        :Bi214_wire_bulk,\n",
    "        :Bi214_wire_surface,\n",
    "        :Tl208_foil_bulk,\n",
    "        :Tl208_PMT_bulk,\n",
    "        :Pa234m_foil_bulk,\n",
    "        :K40_foil_bulk,\n",
    "        :K40_PMT_bulk,\n",
    "    ]\n",
    "    bkgDfs = [        \n",
    "        Bi214_foil_bulk,\n",
    "        Bi214_foil_surface,\n",
    "        Bi214_PMT_bulk,\n",
    "        Bi214_wire_bulk,\n",
    "        Bi214_wire_surface,\n",
    "        Tl208_foil_bulk,\n",
    "        Tl208_PMT_bulk,\n",
    "        Pa234m_foil_bulk,\n",
    "        K40_foil_bulk,\n",
    "        K40_PMT_bulk,\n",
    "    ]\n",
    "    for (i, d) in zip(bkgIsotopes, bkgDfs)\n",
    "        (a, m, t, ε, nExpTot, nTotSim) = get_isotope_details( BkgActivityParams, SNparams, SimulationParams, i, d )\n",
    "        push!(isotope_df, (isotope = string(i), n_expected = Measurements.value(nExpTot), ε = ε*100, activity = Measurements.value(a), amount = m, n_simulated = nTotSim), promote=:true)\n",
    "    end\n",
    "\n",
    "    (a, m, t, ε, nExpTot, nTotSim) = get_isotope_details( SigActivityParams, SNparams, SimulationParams, :Xi037_foil_bulk, Xi037_foil_bulk )\n",
    "    push!(isotope_df, (isotope = string(:Xi037_foil_bulk), n_expected = Measurements.value(nExpTot), ε = ε*100, activity = Measurements.value(a), amount = m, n_simulated = nTotSim), promote=:true)\n",
    "    \n",
    "    isotope_df\n",
    "    \n",
    "    # header = (\n",
    "    # [\"isotope\", \"expected counts\", L\"\\varepsilon\", \"activity\", \"amount\", \"simulated events\"],\n",
    "    # [\"\", \" \", \"[%]\", \"[Bq/amount]\", L\"[\\textrm{kg or m^3 or l}]\", \" \"]\n",
    "    # )\n",
    "    # pretty_table(\n",
    "    #     isotope_df,\n",
    "    #     header =header,\n",
    "    #     backend = Val(:markdown)\n",
    "    # )\n",
    "end"
   ]
  },
  {
   "cell_type": "code",
   "execution_count": 19,
   "metadata": {},
   "outputs": [
    {
     "data": {
      "text/plain": [
       "estimated_counts_hist1D (generic function with 1 method)"
      ]
     },
     "execution_count": 19,
     "metadata": {},
     "output_type": "execute_result"
    }
   ],
   "source": [
    "#scale histogram to estimated counts\n",
    "function estimated_counts_hist1D(dataDf, activity, amount, time, binning, nTotalSim)\n",
    "    totEff = nrow(dataDf) / nTotalSim\n",
    "    h1d = \n",
    "        Hist1D(\n",
    "            dataDf.reconstructedEnergy1 .+ dataDf.reconstructedEnergy2 ,\n",
    "            binning\n",
    "        )\n",
    "    \n",
    "    h1d = normalize(h1d) * step(binning) # normalize to area of 1\n",
    "    \n",
    "    if(typeof(activity)<:Measurement) # just a precaution, sometime I use activities with uncertainty\n",
    "        activity = activity.val\n",
    "    end\n",
    "    \n",
    "    h1d.hist.weights = h1d.hist.weights .*(\n",
    "        activity * time * amount * totEff    \n",
    "    ) # multiply each bin by activity * time * amount * totalEfficiency\n",
    "\n",
    "    return h1d\n",
    "end\n",
    "    "
   ]
  },
  {
   "cell_type": "code",
   "execution_count": 20,
   "metadata": {},
   "outputs": [
    {
     "ename": "LoadError",
     "evalue": "UndefVarError: `Xi037_foil_bulk` not defined",
     "output_type": "error",
     "traceback": [
      "UndefVarError: `Xi037_foil_bulk` not defined",
      "",
      "Stacktrace:",
      " [1] top-level scope",
      "   @ In[20]:3"
     ]
    }
   ],
   "source": [
    "begin \n",
    "    # First we normalize histograms to probability\n",
    "    h1Xi037_foil_bulk = estimated_counts_hist1D( \n",
    "        Xi037_foil_bulk, \n",
    "        SigActivityParams[:Xi037_foil_bulk], \n",
    "        SNparams[\"foilMass\"], \n",
    "        SNparams[\"t\"], \n",
    "        sumEParams[:binning], \n",
    "        SimulationParams[:Xi037_foil_bulk] \n",
    "    )\n",
    "\n",
    "    h1Bi214_foil_bulk = estimated_counts_hist1D( \n",
    "        Bi214_foil_bulk, \n",
    "        BkgActivityParams[:Bi214_foil_bulk], \n",
    "        SNparams[\"foilMass\"], \n",
    "        SNparams[\"t\"], \n",
    "        sumEParams[:binning], \n",
    "        SimulationParams[:Bi214_foil_bulk] \n",
    "    )\n",
    "\n",
    "    h1Bi214_foil_surface = estimated_counts_hist1D( \n",
    "        Bi214_foil_surface, \n",
    "        BkgActivityParams[:Bi214_foil_surface], \n",
    "        SNparams[\"gasVolume\"], \n",
    "        SNparams[\"t\"], \n",
    "        sumEParams[:binning], \n",
    "        SimulationParams[:Bi214_foil_surface] \n",
    "    )\n",
    "\n",
    "    h1Bi214_PMT_bulk = estimated_counts_hist1D( \n",
    "        Bi214_PMT_bulk, \n",
    "        BkgActivityParams[:Bi214_PMT_bulk], \n",
    "        SNparams[\"PMTGlassMass\"], \n",
    "        SNparams[\"t\"], \n",
    "        sumEParams[:binning], \n",
    "        SimulationParams[:Bi214_PMT_bulk] \n",
    "    )\n",
    "\n",
    "    h1Bi214_wire_bulk = estimated_counts_hist1D( \n",
    "        Bi214_wire_bulk, \n",
    "        BkgActivityParams[:Bi214_wire_bulk], # dummy activity\n",
    "        SNparams[\"wireBulkMass\"], \n",
    "        SNparams[\"t\"], \n",
    "        sumEParams[:binning], \n",
    "        SimulationParams[:Bi214_wire_bulk] \n",
    "    )\n",
    "\n",
    "    h1Bi214_wire_surface = estimated_counts_hist1D( \n",
    "        Bi214_wire_surface, \n",
    "        BkgActivityParams[:Bi214_foil_surface], \n",
    "        SNparams[\"gasVolume\"], \n",
    "        SNparams[\"t\"], \n",
    "        sumEParams[:binning], \n",
    "        SimulationParams[:Bi214_wire_surface] \n",
    "    )\n",
    "\n",
    "    h1Tl208_foil_bulk = estimated_counts_hist1D( \n",
    "        Tl208_foil_bulk, \n",
    "        BkgActivityParams[:Tl208_foil_bulk], \n",
    "        SNparams[\"foilMass\"], \n",
    "        SNparams[\"t\"], \n",
    "        sumEParams[:binning], \n",
    "        SimulationParams[:Tl208_foil_bulk] \n",
    "    )\n",
    "\n",
    "    h1Tl208_PMT_bulk = estimated_counts_hist1D( \n",
    "        Tl208_PMT_bulk, \n",
    "        BkgActivityParams[:Tl208_PMT_bulk], \n",
    "        SNparams[\"PMTGlassMass\"], \n",
    "        SNparams[\"t\"], \n",
    "        sumEParams[:binning], \n",
    "        SimulationParams[:Tl208_PMT_bulk] \n",
    "    )\n",
    "\n",
    "    h1Pa234m_foil_bulk = estimated_counts_hist1D( \n",
    "        Pa234m_foil_bulk, \n",
    "        BkgActivityParams[:Pa234m_foil_bulk], \n",
    "        SNparams[\"foilMass\"], \n",
    "        SNparams[\"t\"], \n",
    "        sumEParams[:binning], \n",
    "        SimulationParams[:Pa234m_foil_bulk] \n",
    "    )\n",
    "\n",
    "    h1K40_foil_bulk = estimated_counts_hist1D( \n",
    "        K40_foil_bulk, \n",
    "        BkgActivityParams[:K40_foil_bulk], \n",
    "        SNparams[\"foilMass\"], \n",
    "        SNparams[\"t\"], \n",
    "        sumEParams[:binning], \n",
    "        SimulationParams[:K40_foil_bulk] \n",
    "    )\n",
    "\n",
    "    h1K40_PMT_bulk = estimated_counts_hist1D( \n",
    "        K40_PMT_bulk, \n",
    "        BkgActivityParams[:K40_PMT_bulk], \n",
    "        SNparams[\"PMTGlassMass\"], \n",
    "        SNparams[\"t\"], \n",
    "        sumEParams[:binning], \n",
    "        SimulationParams[:K40_PMT_bulk] \n",
    "    )\n",
    "\n",
    "    histos = [\n",
    "        h1Xi037_foil_bulk,\n",
    "        h1Bi214_foil_bulk,\n",
    "        h1Bi214_foil_surface,\n",
    "        h1Bi214_PMT_bulk,\n",
    "        h1Bi214_wire_bulk,\n",
    "        h1Bi214_wire_surface,\n",
    "        h1Tl208_foil_bulk,\n",
    "        h1Tl208_PMT_bulk,\n",
    "        h1Pa234m_foil_bulk,\n",
    "        h1K40_foil_bulk,\n",
    "        h1K40_PMT_bulk,\n",
    "    ]\n",
    "    names = [\n",
    "        \"Xi037_foil_bulk\",\n",
    "        \"Bi214_foil_bulk\",\n",
    "        \"Bi214_foil_surface\",\n",
    "        \"Bi214_PMT_bulk\",\n",
    "        \"Bi214_wire_bulk\",\n",
    "        \"Bi214_wire_surface\",\n",
    "        \"Tl208_foil_bulk\",\n",
    "        \"Tl208_PMT_bulk\",\n",
    "        \"Pa234m_foil_bulk\",\n",
    "        \"K40_foil_bulk\",\n",
    "        \"K40_PMT_bulk\",\n",
    "    ]\n",
    "\n",
    "    shTotal = SensitivityModule.stackedhist( \n",
    "        histos, \n",
    "        label = reshape(names, (1, length(names))),\n",
    "        xlabel = L\"E_{sum}\"*\" [keV]\",\n",
    "        ylabel = \"estimated counts \" *L\"[%$(step(sumEParams[:binning])) \\textrm{keV^{-1}}]\",\n",
    "        title = \"Stacked Hist \\nEstimated counts in $(SNparams[\"tYear\"]) years of measurement \\nusing SDBDRC and recommended activities\"\n",
    "    )\n",
    "\n",
    "    safesave(plotsdir(\"SumE\", \"Stacked_hist_total_spectrum.pdf\"), shTotal)\n",
    "    safesave(plotsdir(\"SumE\", \"Stacked_hist_total_spectrum.png\"), shTotal)\n",
    "    \n",
    "    shTotal\n",
    "end"
   ]
  },
  {
   "cell_type": "code",
   "execution_count": 21,
   "metadata": {},
   "outputs": [
    {
     "ename": "LoadError",
     "evalue": "UndefVarError: `histos` not defined",
     "output_type": "error",
     "traceback": [
      "UndefVarError: `histos` not defined",
      "",
      "Stacktrace:",
      " [1] top-level scope",
      "   @ ./In[21]:8"
     ]
    }
   ],
   "source": [
    "begin\n",
    "    p = plot(\n",
    "        xlabel = L\"E_{sum}\"*\" [keV]\",\n",
    "        ylabel = \"estimated counts \" *L\"[%$(step(sumEParams[:binning])) \\textrm{keV^{-1}}]\",\n",
    "        title = \"Estimated counts in $(SNparams[\"tYear\"]) years of measurement \\nusing SDBDRC and recommended activities\",\n",
    "        xlims = (0, 4000)\n",
    "    )\n",
    "    for i in 1:length(histos)\n",
    "    plot!(p, \n",
    "        histos[i], fa = 0.3, lw = 0, label = names[i]\n",
    "        #midpoints(binedges(h1Xi037_foil_bulk)), bincounts(h1Xi037_foil_bulk), st = :step, l = names[1] \n",
    "    )\n",
    "    end\n",
    "    \n",
    "\n",
    "    safesave(plotsdir(\"SumE\", \"hist_total_spectrum.pdf\"), p)\n",
    "    safesave(plotsdir(\"SumE\", \"hist_total_spectrum.png\"), p)\n",
    "    \n",
    "    p\n",
    "end\n"
   ]
  },
  {
   "cell_type": "code",
   "execution_count": 22,
   "metadata": {},
   "outputs": [
    {
     "data": {
      "text/latex": [
       "\\subsection{Analysis}\n",
       "To perform the analysis as described in \\texttt{docdb:5833}. We must follow the steps: \n",
       "\n",
       "\\begin{itemize}\n",
       "\\item[1. ] calculate the efficiency maps\n",
       "\n",
       "\n",
       "\\item[2. ] calculate the corresponding s/b ratios\n",
       "\n",
       "\n",
       "\\item[3. ] determine best ROI\n",
       "\n",
       "\n",
       "\\item[4. ] extract $\\bar{b}$ and $\\varepsilon$ in the ROI \n",
       "\n",
       "\n",
       "\\item[5. ] calculate $T_{1/2}$\n",
       "\n",
       "\\end{itemize}\n",
       "In this analysis, I've created a data-type \\texttt{Process} which holds the information about the individual studied processes and I've written a number of methods which calculate the efficiency maps, ROIs and T12. The following example shows the pipeline to obtain the T12:\n",
       "\n"
      ],
      "text/markdown": [
       "## Analysis\n",
       "\n",
       "To perform the analysis as described in `docdb:5833`. We must follow the steps: \n",
       "\n",
       "1. calculate the efficiency maps\n",
       "2. calculate the corresponding s/b ratios\n",
       "3. determine best ROI\n",
       "4. extract $\\bar{b}$ and $\\varepsilon$ in the ROI\n",
       "5. calculate $T_{1/2}$\n",
       "\n",
       "In this analysis, I've created a data-type `Process` which holds the information about the individual studied processes and I've written a number of methods which calculate the efficiency maps, ROIs and T12. The following example shows the pipeline to obtain the T12:\n"
      ],
      "text/plain": [
       "\u001b[1m  Analysis\u001b[22m\n",
       "\u001b[1m  ========\u001b[22m\n",
       "\n",
       "  To perform the analysis as described in \u001b[36mdocdb:5833\u001b[39m. We must follow the\n",
       "  steps:\n",
       "\n",
       "    1. calculate the efficiency maps\n",
       "\n",
       "    2. calculate the corresponding s/b ratios\n",
       "\n",
       "    3. determine best ROI\n",
       "\n",
       "    4. extract \u001b[35m\\bar{b}\u001b[39m and \u001b[35m\\varepsilon\u001b[39m in the ROI\n",
       "\n",
       "    5. calculate \u001b[35mT_{1/2}\u001b[39m\n",
       "\n",
       "  In this analysis, I've created a data-type \u001b[36mProcess\u001b[39m which holds the\n",
       "  information about the individual studied processes and I've written a number\n",
       "  of methods which calculate the efficiency maps, ROIs and T12. The following\n",
       "  example shows the pipeline to obtain the T12:"
      ]
     },
     "execution_count": 22,
     "metadata": {},
     "output_type": "execute_result"
    }
   ],
   "source": [
    "md\"\"\"\n",
    "## Analysis\n",
    "\n",
    "To perform the analysis as described in `docdb:5833`. We must follow the steps: \n",
    "1. calculate the efficiency maps\n",
    "2. calculate the corresponding s/b ratios\n",
    "3. determine best ROI\n",
    "4. extract ``\\bar{b}`` and ``\\varepsilon`` in the ROI \n",
    "5. calculate ``T_{1/2}``\n",
    "\n",
    "In this analysis, I've created a data-type `Process` which holds the information about the individual studied processes and I've written a number of methods which calculate the efficiency maps, ROIs and T12. The following example shows the pipeline to obtain the T12:\n",
    "\"\"\""
   ]
  },
  {
   "cell_type": "code",
   "execution_count": 23,
   "metadata": {},
   "outputs": [
    {
     "data": {
      "text/latex": [
       "First we instantiate the \\texttt{Process}'s for each isotope:\n",
       "\n"
      ],
      "text/markdown": [
       "First we instantiate the `Process`'s for each isotope:\n"
      ],
      "text/plain": [
       "  First we instantiate the \u001b[36mProcess\u001b[39m's for each isotope:"
      ]
     },
     "execution_count": 23,
     "metadata": {},
     "output_type": "execute_result"
    }
   ],
   "source": [
    "md\"\"\"\n",
    "First we instantiate the `Process`'s for each isotope:\n",
    "\"\"\""
   ]
  },
  {
   "cell_type": "code",
   "execution_count": 24,
   "metadata": {},
   "outputs": [
    {
     "ename": "LoadError",
     "evalue": "UndefVarError: `Bi214_foil_bulk` not defined",
     "output_type": "error",
     "traceback": [
      "UndefVarError: `Bi214_foil_bulk` not defined",
      "",
      "Stacktrace:",
      " [1] top-level scope",
      "   @ In[24]:2"
     ]
    }
   ],
   "source": [
    "begin\n",
    "    Bi214_foil_bulk_SumE    = \n",
    "        Process(Bi214_foil_bulk.reconstructedEnergy1 .+ Bi214_foil_bulk.reconstructedEnergy2, sumEBi214_foil_bulk_Params)\n",
    "    \n",
    "    Bi214_foil_surface_SumE = \n",
    "        Process(Bi214_foil_surface.reconstructedEnergy1 .+ Bi214_foil_surface.reconstructedEnergy2, sumEBi214_foil_surface_Params)\n",
    "    \n",
    "    Bi214_PMT_bulk_SumE     = \n",
    "        Process(Bi214_PMT_bulk.reconstructedEnergy1 .+ Bi214_PMT_bulk.reconstructedEnergy2, sumEBi214_PMT_bulk_Params)\n",
    "    \n",
    "    Bi214_wire_bulk_SumE    = \n",
    "        Process(Bi214_wire_bulk.reconstructedEnergy1 .+ Bi214_wire_bulk.reconstructedEnergy2, sumEBi214_wire_bulk_Params)\n",
    "    \n",
    "    Bi214_wire_surface_SumE = \n",
    "        Process(Bi214_wire_surface.reconstructedEnergy1 .+ Bi214_wire_surface.reconstructedEnergy2, sumEBi214_wire_surface_Params)\n",
    "    \n",
    "    \n",
    "    Tl208_foil_bulk_SumE    = \n",
    "        Process(Tl208_foil_bulk.reconstructedEnergy1 .+ Tl208_foil_bulk.reconstructedEnergy2, sumETl208_foil_bulk_Params)\n",
    "    \n",
    "    Tl208_PMT_bulk_SumE     = \n",
    "        Process(Tl208_PMT_bulk.reconstructedEnergy1 .+ Tl208_PMT_bulk.reconstructedEnergy2, sumETl208_PMT_bulk_Params)\n",
    "    \n",
    "    \n",
    "    Pa234m_foil_bulk_SumE   = \n",
    "        Process(Pa234m_foil_bulk.reconstructedEnergy1 .+ Pa234m_foil_bulk.reconstructedEnergy2, sumEPa234m_foil_bulk_Params)\n",
    "    \n",
    "    \n",
    "    K40_foil_bulk_SumE      = \n",
    "        Process(K40_foil_bulk.reconstructedEnergy1 .+ K40_foil_bulk.reconstructedEnergy2, sumEK40_foil_bulk_Params)\n",
    "    \n",
    "    K40_PMT_bulk_SumE       = \n",
    "        Process(K40_PMT_bulk.reconstructedEnergy1 .+ K40_PMT_bulk.reconstructedEnergy2, sumEK40_PMT_bulk_Params)\n",
    "    \n",
    "    \n",
    "    Xi037_foil_bulk_SumE     = \n",
    "        Process(Xi037_foil_bulk.reconstructedEnergy1 .+ Xi037_foil_bulk.reconstructedEnergy2, sumEXiParams)\n",
    "    \n",
    "\n",
    "    nothing # so there's no cell output\n",
    "end"
   ]
  },
  {
   "cell_type": "code",
   "execution_count": 25,
   "metadata": {},
   "outputs": [
    {
     "data": {
      "text/latex": [
       "\\subsubsection{At construction, the efficiency maps are created as well:}\n"
      ],
      "text/markdown": [
       "### At construction, the efficiency maps are created as well:\n"
      ],
      "text/plain": [
       "\u001b[1m  At construction, the efficiency maps are created as well:\u001b[22m\n",
       "\u001b[1m  –––––––––––––––––––––––––––––––––––––––––––––––––––––––––\u001b[22m"
      ]
     },
     "execution_count": 25,
     "metadata": {},
     "output_type": "execute_result"
    }
   ],
   "source": [
    "md\"\"\"\n",
    "### At construction, the efficiency maps are created as well:\n",
    "\"\"\""
   ]
  },
  {
   "cell_type": "code",
   "execution_count": 26,
   "metadata": {},
   "outputs": [
    {
     "ename": "LoadError",
     "evalue": "UndefVarError: `Bi214_foil_bulk_SumE` not defined",
     "output_type": "error",
     "traceback": [
      "UndefVarError: `Bi214_foil_bulk_SumE` not defined",
      "",
      "Stacktrace:",
      " [1] (::var\"#3#4\")()",
      "   @ Main ./In[26]:12",
      " [2] with(f::var\"#3#4\", args::Function; scalefonts::Nothing, kw::@Kwargs{c::Symbol, size::Tuple{Int64, Int64}, thickness_scaling::Float64, right_margin::Measures.AbsoluteLength, left_margin::Measures.AbsoluteLength, bottom_margin::Measures.AbsoluteLength})",
      "   @ Plots ~/.julia/packages/Plots/sxUvK/src/utils.jl:689",
      " [3] top-level scope",
      "   @ In[26]:1"
     ]
    }
   ],
   "source": [
    "with(\n",
    "    gr;\n",
    "\n",
    "    c = :coolwarm, \n",
    "    size = (1600, 600), \n",
    "    thickness_scaling = 1.4, \n",
    "    right_margin = 8Plots.mm,\n",
    "    left_margin = 8Plots.mm,\n",
    "    bottom_margin = 8Plots.mm,\n",
    ")   do\n",
    "#Bi214\n",
    "    p1 = plot(Bi214_foil_bulk_SumE.efficiency, title =\"$(Bi214_foil_bulk_SumE.isotopeName)\")\n",
    "\n",
    "    p2 = plot(Bi214_foil_surface_SumE.efficiency, title =\"$(Bi214_foil_surface_SumE.isotopeName)\")\n",
    "\n",
    "    p3 = plot(Bi214_wire_bulk_SumE.efficiency, title =\"$(Bi214_wire_bulk_SumE.isotopeName)\")\n",
    "\n",
    "    p4 = plot(Bi214_wire_surface_SumE.efficiency, title =\"$(Bi214_wire_surface_SumE.isotopeName)\")\n",
    "\n",
    "    p5 = plot(Bi214_PMT_bulk_SumE.efficiency, title =\"$(Bi214_PMT_bulk_SumE.isotopeName)\")\n",
    "\n",
    "\n",
    "#Tl208   \n",
    "    p6 = plot(Tl208_foil_bulk_SumE.efficiency, title =\"$(Tl208_foil_bulk_SumE.isotopeName)\")\n",
    "\n",
    "    p7 = plot(Tl208_PMT_bulk_SumE.efficiency, title =\"$(Tl208_PMT_bulk_SumE.isotopeName)\")\n",
    "\n",
    "#Pa234m\n",
    "    p8 = plot(Pa234m_foil_bulk_SumE.efficiency, title =\"$(Pa234m_foil_bulk_SumE.isotopeName)\")\n",
    "\n",
    "#K40\n",
    "    p9 = plot(K40_foil_bulk_SumE.efficiency, title =\"$(K40_foil_bulk_SumE.isotopeName)\")\n",
    "\n",
    "    p10 = plot(\n",
    "        K40_PMT_bulk_SumE.efficiency, \n",
    "        title =\"$(K40_PMT_bulk_SumE.isotopeName)\",\n",
    "        xlabel = \"min sum energy [keV]\", \n",
    "        ylabel = \"max sum energy [keV]\", \n",
    "    )\n",
    "\n",
    "#Xi037\n",
    "    p11 = plot(\n",
    "        Xi037_foil_bulk_SumE.efficiency, \n",
    "        title =\"$(Xi037_foil_bulk_SumE.isotopeName)\", \n",
    "        xlabel = \"min sum energy [keV]\", \n",
    "        ylabel = \"max sum energy [keV]\", \n",
    "    )\n",
    "\n",
    "    plot(p10, p11) # it's not viable to display 11 plots, just look at the saved pngs :P\n",
    "end\n"
   ]
  },
  {
   "cell_type": "code",
   "execution_count": 27,
   "metadata": {},
   "outputs": [
    {
     "data": {
      "text/latex": [
       "\\paragraph{Combining the \\textbf{estimated} counts into the efficiency maps we can create the s/b maps:}\n"
      ],
      "text/markdown": [
       "#### Combining the **estimated** counts into the efficiency maps we can create the s/b maps:\n"
      ],
      "text/plain": [
       "\u001b[1m  Combining the \u001b[1mestimated\u001b[22m counts into the efficiency maps we can create\u001b[22m\n",
       "\u001b[1m  the s/b maps:\u001b[22m\n",
       "\u001b[1m  --------------------------\u001b[22m"
      ]
     },
     "execution_count": 27,
     "metadata": {},
     "output_type": "execute_result"
    }
   ],
   "source": [
    "md\"\"\"\n",
    "#### Combining the **estimated** counts into the efficiency maps we can create the s/b maps:\n",
    "\"\"\""
   ]
  },
  {
   "cell_type": "code",
   "execution_count": 28,
   "metadata": {},
   "outputs": [
    {
     "ename": "LoadError",
     "evalue": "UndefVarError: `Xi037_foil_bulk_SumE` not defined",
     "output_type": "error",
     "traceback": [
      "UndefVarError: `Xi037_foil_bulk_SumE` not defined",
      "",
      "Stacktrace:",
      " [1] top-level scope",
      "   @ In[28]:1"
     ]
    }
   ],
   "source": [
    "stbSum = get_sToBRatio(\n",
    "    Xi037_foil_bulk_SumE,\n",
    "    Bi214_foil_bulk_SumE,\n",
    "    Bi214_foil_surface_SumE,\n",
    "    Bi214_PMT_bulk_SumE,\n",
    "    Bi214_wire_bulk_SumE,\n",
    "    Bi214_wire_surface_SumE,\n",
    "    Tl208_foil_bulk_SumE,\n",
    "    Tl208_PMT_bulk_SumE,\n",
    "    Pa234m_foil_bulk_SumE,\n",
    "    K40_foil_bulk_SumE,\n",
    "    K40_PMT_bulk_SumE,\n",
    ");"
   ]
  },
  {
   "cell_type": "code",
   "execution_count": 29,
   "metadata": {},
   "outputs": [
    {
     "ename": "LoadError",
     "evalue": "UndefVarError: `stbSum` not defined",
     "output_type": "error",
     "traceback": [
      "UndefVarError: `stbSum` not defined",
      "",
      "Stacktrace:",
      " [1] top-level scope",
      "   @ In[29]:1"
     ]
    }
   ],
   "source": [
    "plot(\n",
    "    stbSum, \n",
    "    c =:coolwarm, widen =:false,\n",
    "    xlabel =\"E_min\", ylabel =\"E_max\",\n",
    "    title= \"signal-over-background map\"\n",
    ")"
   ]
  },
  {
   "cell_type": "code",
   "execution_count": 30,
   "metadata": {},
   "outputs": [
    {
     "ename": "LoadError",
     "evalue": "UndefVarError: `stbSum` not defined",
     "output_type": "error",
     "traceback": [
      "UndefVarError: `stbSum` not defined",
      "",
      "Stacktrace:",
      " [1] top-level scope",
      "   @ In[30]:1"
     ]
    }
   ],
   "source": [
    "best_stbSum= get_max_bin(stbSum);"
   ]
  },
  {
   "cell_type": "code",
   "execution_count": 31,
   "metadata": {},
   "outputs": [
    {
     "ename": "LoadError",
     "evalue": "UndefVarError: `best_stbSum` not defined",
     "output_type": "error",
     "traceback": [
      "UndefVarError: `best_stbSum` not defined",
      "",
      "Stacktrace:",
      " [1] top-level scope",
      "   @ In[31]:1"
     ]
    }
   ],
   "source": [
    "md\"\"\"\n",
    "### Largest s/b value (best ROI) is found with: \n",
    "- ROI: ($(best_stbSum[:minBinEdge]) - $(best_stbSum[:maxBinEdge])) keV\n",
    "- s/b: $(best_stbSum[:maxBinCount] |> round)\n",
    "\"\"\""
   ]
  },
  {
   "cell_type": "code",
   "execution_count": 32,
   "metadata": {},
   "outputs": [
    {
     "ename": "LoadError",
     "evalue": "UndefVarError: `best_stbSum` not defined",
     "output_type": "error",
     "traceback": [
      "UndefVarError: `best_stbSum` not defined",
      "",
      "Stacktrace:",
      " [1] top-level scope",
      "   @ In[32]:1"
     ]
    }
   ],
   "source": [
    "expBkgESum = get_estimated_bkg_counts(\n",
    "    best_stbSum, \n",
    "    SNparams, \n",
    "    Bi214_foil_bulk_SumE,\n",
    "    Bi214_foil_surface_SumE,\n",
    "    Bi214_PMT_bulk_SumE,\n",
    "    Bi214_wire_bulk_SumE,\n",
    "    Bi214_wire_surface_SumE,\n",
    "    Tl208_foil_bulk_SumE,\n",
    "    Tl208_PMT_bulk_SumE,\n",
    "    Pa234m_foil_bulk_SumE,\n",
    "    K40_foil_bulk_SumE,\n",
    "    K40_PMT_bulk_SumE,\n",
    ")\n"
   ]
  },
  {
   "cell_type": "code",
   "execution_count": 33,
   "metadata": {},
   "outputs": [
    {
     "ename": "LoadError",
     "evalue": "UndefVarError: `expBkgESum` not defined",
     "output_type": "error",
     "traceback": [
      "UndefVarError: `expBkgESum` not defined",
      "",
      "Stacktrace:",
      " [1] top-level scope",
      "   @ In[33]:1"
     ]
    }
   ],
   "source": [
    "md\"\"\"\n",
    "### The estimated background count in the ROI is: b = $(expBkgESum |> round)\n",
    "\"\"\""
   ]
  },
  {
   "cell_type": "code",
   "execution_count": 34,
   "metadata": {},
   "outputs": [
    {
     "ename": "LoadError",
     "evalue": "UndefVarError: `Xi037_foil_bulk_SumE` not defined",
     "output_type": "error",
     "traceback": [
      "UndefVarError: `Xi037_foil_bulk_SumE` not defined",
      "",
      "Stacktrace:",
      " [1] top-level scope",
      "   @ In[34]:1"
     ]
    }
   ],
   "source": [
    "effbb = lookup( Xi037_foil_bulk_SumE.efficiency, best_stbSum[:minBinEdge], best_stbSum[:maxBinEdge]);"
   ]
  },
  {
   "cell_type": "code",
   "execution_count": 35,
   "metadata": {},
   "outputs": [
    {
     "ename": "LoadError",
     "evalue": "UndefVarError: `effbb` not defined",
     "output_type": "error",
     "traceback": [
      "UndefVarError: `effbb` not defined",
      "",
      "Stacktrace:",
      " [1] top-level scope",
      "   @ In[35]:1"
     ]
    }
   ],
   "source": [
    "md\"\"\"\n",
    "### The corresponding signal efficiency in ROI is: $effbb\n",
    "\"\"\""
   ]
  },
  {
   "cell_type": "code",
   "execution_count": 36,
   "metadata": {},
   "outputs": [
    {
     "data": {
      "text/latex": [
       "\\subsubsection{Finally the calculated sensitivity (assuming Gaussian approximation) for CL = 90\\% is:}\n",
       "$$T_{1/2}^{2\\nu} \\geq (3.288 \\pm 0.003)\\cdot 10^{21} \\textrm{yr}$$\n",
       "\n"
      ],
      "text/markdown": [
       "### Finally the calculated sensitivity (assuming Gaussian approximation) for CL = 90% is:\n",
       "\n",
       "$$T_{1/2}^{2\\nu} \\geq (3.288 \\pm 0.003)\\cdot 10^{21} \\textrm{yr}$$\n"
      ],
      "text/plain": [
       "\u001b[1m  Finally the calculated sensitivity (assuming Gaussian approximation) for\u001b[22m\n",
       "\u001b[1m  CL = 90% is:\u001b[22m\n",
       "\u001b[1m  ––––––––––––––––––––––––––\u001b[22m\n",
       "\n",
       "  \u001b[35m$T_{1/2}^{2\\nu} \\geq (3.288 \\pm 0.003)\\cdot 10^{21} \\textrm{yr}$\u001b[39m"
      ]
     },
     "execution_count": 36,
     "metadata": {},
     "output_type": "execute_result"
    }
   ],
   "source": [
    "md\"\"\"\n",
    "### Finally the calculated sensitivity (assuming Gaussian approximation) for CL = 90% is: \n",
    " ``$T_{1/2}^{2\\nu} \\geq (3.288 \\pm 0.003)\\cdot 10^{21} \\textrm{yr}$``\n",
    "\n",
    "\"\"\""
   ]
  },
  {
   "cell_type": "code",
   "execution_count": 37,
   "metadata": {},
   "outputs": [
    {
     "ename": "LoadError",
     "evalue": "UndefVarError: `effbb` not defined",
     "output_type": "error",
     "traceback": [
      "UndefVarError: `effbb` not defined",
      "",
      "Stacktrace:",
      " [1] top-level scope",
      "   @ In[37]:1"
     ]
    }
   ],
   "source": [
    "ThalfbbESum = get_tHalf(SNparams, effbb, expBkgESum, 1.8)\n"
   ]
  },
  {
   "cell_type": "code",
   "execution_count": null,
   "metadata": {},
   "outputs": [],
   "source": []
  },
  {
   "cell_type": "code",
   "execution_count": null,
   "metadata": {},
   "outputs": [],
   "source": []
  },
  {
   "cell_type": "code",
   "execution_count": null,
   "metadata": {},
   "outputs": [],
   "source": []
  }
 ],
 "metadata": {
  "kernelspec": {
   "display_name": "Julia 1.10.0",
   "language": "julia",
   "name": "julia-1.10"
  },
  "language_info": {
   "file_extension": ".jl",
   "mimetype": "application/julia",
   "name": "julia",
   "version": "1.10.0"
  }
 },
 "nbformat": 4,
 "nbformat_minor": 4
}
