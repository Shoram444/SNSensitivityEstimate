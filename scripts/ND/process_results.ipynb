{
 "cells": [
  {
   "cell_type": "code",
   "execution_count": null,
   "id": "1ea7b6ce-9d4b-455a-9fe5-e5ce596fdb19",
   "metadata": {
    "scrolled": true
   },
   "outputs": [],
   "source": [
    "using DrWatson\n",
    "@quickactivate \"SNSensitivityEstimate\""
   ]
  },
  {
   "cell_type": "code",
   "execution_count": null,
   "id": "444a0c99-7a68-483e-9a86-6ba01e3ab0cf",
   "metadata": {},
   "outputs": [],
   "source": [
    "push!(LOAD_PATH, srcdir())"
   ]
  },
  {
   "cell_type": "code",
   "execution_count": null,
   "id": "3bcd0e82-16ac-482f-b0f2-87ce5a783aca",
   "metadata": {},
   "outputs": [],
   "source": [
    "using SensitivityModule"
   ]
  },
  {
   "cell_type": "code",
   "execution_count": null,
   "id": "e79759a8-1b64-49ed-9ecb-6705cd46de2b",
   "metadata": {},
   "outputs": [],
   "source": [
    "using CSV, DataFramesMeta, CairoMakie, StatsBase, Measurements;"
   ]
  },
  {
   "cell_type": "code",
   "execution_count": null,
   "id": "0cedd2e1-a69d-41f4-bed3-e7f2c1454003",
   "metadata": {},
   "outputs": [],
   "source": [
    "function get_best_sens(signal, dir)\n",
    "    df = DataFrame(thalf = [], roi = [], eff = [], b = [], x0 = [])\n",
    "    for f in readdir(dir)\n",
    "        if occursin(signal, f)\n",
    "            try\n",
    "                d = CSV.File(joinpath(dir, f)) |> DataFrame\n",
    "                append!(df, d, promote = true)\n",
    "            catch \n",
    "                @warn \"invalid file: $f\"\n",
    "            end\n",
    "        end\n",
    "    end\n",
    "    \n",
    "    best = argmax(df.thalf)\n",
    "\n",
    "    return DataFrame(signal = signal, thalf = df.thalf[best], roi = df.roi[best], eff = df.eff[best], b = df.b[best])\n",
    "end\n",
    "\n",
    "function get_best_sens!(df, signal, dir)\n",
    "    d = get_best_sens(signal, dir)\n",
    "    append!(df, d, promote =true)\n",
    "end"
   ]
  },
  {
   "cell_type": "code",
   "execution_count": null,
   "id": "7e5a0aa1-7ca7-49d3-a1dc-8b9f9f256d3d",
   "metadata": {},
   "outputs": [],
   "source": [
    "df = DataFrame(thalf = [], roi = [], eff = [], b = [], x0 = [])\n",
    "signal = \"bb0nu_foil_bulk\""
   ]
  },
  {
   "cell_type": "code",
   "execution_count": 7,
   "id": "92d560a8-6783-44af-8153-b2a7955fd744",
   "metadata": {},
   "outputs": [
    {
     "data": {
      "text/html": [
       "<div><div style = \"float: left;\"><span>1×5 DataFrame</span></div><div style = \"clear: both;\"></div></div><div class = \"data-frame\" style = \"overflow-x: scroll;\"><table class = \"data-frame\" style = \"margin-bottom: 6px;\"><thead><tr class = \"header\"><th class = \"rowNumber\" style = \"font-weight: bold; text-align: right;\">Row</th><th style = \"text-align: left;\">signal</th><th style = \"text-align: left;\">thalf</th><th style = \"text-align: left;\">roi</th><th style = \"text-align: left;\">eff</th><th style = \"text-align: left;\">b</th></tr><tr class = \"subheader headerLastRow\"><th class = \"rowNumber\" style = \"font-weight: bold; text-align: right;\"></th><th title = \"String\" style = \"text-align: left;\">String</th><th title = \"Float64\" style = \"text-align: left;\">Float64</th><th title = \"String\" style = \"text-align: left;\">String</th><th title = \"Float64\" style = \"text-align: left;\">Float64</th><th title = \"String31\" style = \"text-align: left;\">String31</th></tr></thead><tbody><tr><td class = \"rowNumber\" style = \"font-weight: bold; text-align: right;\">1</td><td style = \"text-align: left;\">bb0nu_foil_bulk</td><td style = \"text-align: right;\">3.95703e24</td><td style = \"text-align: left;\">(phi = (12.0, 162.0), sumE = (2726.0, 3499.0), maxE = (1128.0, 2831.0), r = (0.0, 80.0))</td><td style = \"text-align: right;\">0.127108</td><td style = \"text-align: left;\">0.4999 ± 0.006</td></tr></tbody></table></div>"
      ],
      "text/latex": [
       "\\begin{tabular}{r|cccc}\n",
       "\t& signal & thalf & roi & \\\\\n",
       "\t\\hline\n",
       "\t& String & Float64 & String & \\\\\n",
       "\t\\hline\n",
       "\t1 & bb0nu\\_foil\\_bulk & 3.95703e24 & (phi = (12.0, 162.0), sumE = (2726.0, 3499.0), maxE = (1128.0, 2831.0), r = (0.0, 80.0)) & $\\dots$ \\\\\n",
       "\\end{tabular}\n"
      ],
      "text/plain": [
       "\u001b[1m1×5 DataFrame\u001b[0m\n",
       "\u001b[1m Row \u001b[0m│\u001b[1m signal          \u001b[0m\u001b[1m thalf      \u001b[0m\u001b[1m roi                               \u001b[0m\u001b[1m eff    \u001b[0m ⋯\n",
       "     │\u001b[90m String          \u001b[0m\u001b[90m Float64    \u001b[0m\u001b[90m String                            \u001b[0m\u001b[90m Float64\u001b[0m ⋯\n",
       "─────┼──────────────────────────────────────────────────────────────────────────\n",
       "   1 │ bb0nu_foil_bulk  3.95703e24  (phi = (12.0, 162.0), sumE = (27…  0.12710 ⋯\n",
       "\u001b[36m                                                               2 columns omitted\u001b[0m"
      ]
     },
     "execution_count": 7,
     "metadata": {},
     "output_type": "execute_result"
    }
   ],
   "source": [
    "df_best = get_best_sens(signal, \"results/phi_esum_emax_r\")"
   ]
  },
  {
   "cell_type": "code",
   "execution_count": 8,
   "id": "c9eaaa4d-328f-49ca-be53-ad43a7b57b26",
   "metadata": {},
   "outputs": [],
   "source": [
    "for s in [\"bb0nuM1_foil_bulk\", \"bb0nuM2_foil_bulk\", \"RH037_foil_bulk\"]\n",
    "    get_best_sens!(df_best, s, \"results/phi_esum_emax_r\")\n",
    "end"
   ]
  },
  {
   "cell_type": "code",
   "execution_count": 9,
   "id": "63b75fc2-5907-4430-b578-c2150196d7e6",
   "metadata": {},
   "outputs": [
    {
     "data": {
      "text/html": [
       "<div><div style = \"float: left;\"><span>4×5 DataFrame</span></div><div style = \"clear: both;\"></div></div><div class = \"data-frame\" style = \"overflow-x: scroll;\"><table class = \"data-frame\" style = \"margin-bottom: 6px;\"><thead><tr class = \"header\"><th class = \"rowNumber\" style = \"font-weight: bold; text-align: right;\">Row</th><th style = \"text-align: left;\">signal</th><th style = \"text-align: left;\">thalf</th><th style = \"text-align: left;\">roi</th><th style = \"text-align: left;\">eff</th><th style = \"text-align: left;\">b</th></tr><tr class = \"subheader headerLastRow\"><th class = \"rowNumber\" style = \"font-weight: bold; text-align: right;\"></th><th title = \"String\" style = \"text-align: left;\">String</th><th title = \"Any\" style = \"text-align: left;\">Any</th><th title = \"String\" style = \"text-align: left;\">String</th><th title = \"Any\" style = \"text-align: left;\">Any</th><th title = \"String31\" style = \"text-align: left;\">String31</th></tr></thead><tbody><tr><td class = \"rowNumber\" style = \"font-weight: bold; text-align: right;\">1</td><td style = \"text-align: left;\">bb0nu_foil_bulk</td><td style = \"text-align: left;\">3.95703e24</td><td style = \"text-align: left;\">(phi = (12.0, 162.0), sumE = (2726.0, 3499.0), maxE = (1128.0, 2831.0), r = (0.0, 80.0))</td><td style = \"text-align: left;\">0.127108</td><td style = \"text-align: left;\">0.4999 ± 0.006</td></tr><tr><td class = \"rowNumber\" style = \"font-weight: bold; text-align: right;\">2</td><td style = \"text-align: left;\">bb0nuM1_foil_bulk</td><td style = \"text-align: left;\">1.45998e23</td><td style = \"text-align: left;\">(phi = (17.0, 171.0), sumE = (2519.0, 3479.0), maxE = (1133.0, 3410.0), r = (1.0, 67.0))</td><td style = \"text-align: left;\">0.0146559</td><td style = \"text-align: left;\">19.53 ± 0.34</td></tr><tr><td class = \"rowNumber\" style = \"font-weight: bold; text-align: right;\">3</td><td style = \"text-align: left;\">bb0nuM2_foil_bulk</td><td style = \"text-align: left;\">2.29577e22</td><td style = \"text-align: left;\">(phi = (15.0, 177.0), sumE = (961.0, 2687.0), maxE = (622.0, 2834.0), r = (1.0, 99.0))</td><td style = \"text-align: left;\">0.105379</td><td style = \"text-align: left;\">61740.0 ± 1000.0</td></tr><tr><td class = \"rowNumber\" style = \"font-weight: bold; text-align: right;\">4</td><td style = \"text-align: left;\">RH037_foil_bulk</td><td style = \"text-align: left;\">9.986115753367956e21 ± 0.0</td><td style = \"text-align: left;\">(phi = (31.0, 170.0), sumE = (325.0, 2387.0), maxE = (285.0, 2199.0), r = (15.0, 75.0))</td><td style = \"text-align: left;\">0.04876854 ± 0.0</td><td style = \"text-align: left;\">69890.0 ± 970.0</td></tr></tbody></table></div>"
      ],
      "text/latex": [
       "\\begin{tabular}{r|cccc}\n",
       "\t& signal & thalf & roi & \\\\\n",
       "\t\\hline\n",
       "\t& String & Any & String & \\\\\n",
       "\t\\hline\n",
       "\t1 & bb0nu\\_foil\\_bulk & 3.95703e24 & (phi = (12.0, 162.0), sumE = (2726.0, 3499.0), maxE = (1128.0, 2831.0), r = (0.0, 80.0)) & $\\dots$ \\\\\n",
       "\t2 & bb0nuM1\\_foil\\_bulk & 1.45998e23 & (phi = (17.0, 171.0), sumE = (2519.0, 3479.0), maxE = (1133.0, 3410.0), r = (1.0, 67.0)) & $\\dots$ \\\\\n",
       "\t3 & bb0nuM2\\_foil\\_bulk & 2.29577e22 & (phi = (15.0, 177.0), sumE = (961.0, 2687.0), maxE = (622.0, 2834.0), r = (1.0, 99.0)) & $\\dots$ \\\\\n",
       "\t4 & RH037\\_foil\\_bulk & 9.986115753367956e21 ± 0.0 & (phi = (31.0, 170.0), sumE = (325.0, 2387.0), maxE = (285.0, 2199.0), r = (15.0, 75.0)) & $\\dots$ \\\\\n",
       "\\end{tabular}\n"
      ],
      "text/plain": [
       "\u001b[1m4×5 DataFrame\u001b[0m\n",
       "\u001b[1m Row \u001b[0m│\u001b[1m signal            \u001b[0m\u001b[1m thalf                      \u001b[0m\u001b[1m roi                     \u001b[0m ⋯\n",
       "     │\u001b[90m String            \u001b[0m\u001b[90m Any                        \u001b[0m\u001b[90m String                  \u001b[0m ⋯\n",
       "─────┼──────────────────────────────────────────────────────────────────────────\n",
       "   1 │ bb0nu_foil_bulk    3.95703e24                  (phi = (12.0, 162.0), su ⋯\n",
       "   2 │ bb0nuM1_foil_bulk  1.45998e23                  (phi = (17.0, 171.0), su\n",
       "   3 │ bb0nuM2_foil_bulk  2.29577e22                  (phi = (15.0, 177.0), su\n",
       "   4 │ RH037_foil_bulk    9.986115753367956e21 ± 0.0  (phi = (31.0, 170.0), su\n",
       "\u001b[36m                                                               3 columns omitted\u001b[0m"
      ]
     },
     "execution_count": 9,
     "metadata": {},
     "output_type": "execute_result"
    }
   ],
   "source": [
    "df_best"
   ]
  },
  {
   "cell_type": "markdown",
   "id": "9b6b503a-0a07-4e24-8111-180e789994b4",
   "metadata": {},
   "source": [
    "| **signal**        | **ROI**             | **bkg counts in ROI** | **efficiency** | **t12** |\n",
    "|------------------:|--------------------:|----------------------:|---------------:|--------:|\n",
    "| bb0nu\\_foil\\_bulk | 2700.0 - 3200.0 keV | 1.03±0.09             | 1.5            | 4.14e25 |\n",
    "| RH037\\_foil\\_bulk | 300.0 - 2900.0 keV | 114892.0±79.0         | 0.08           | 1.3e22  |\n"
   ]
  },
  {
   "cell_type": "markdown",
   "id": "50d8c7b9-4d50-424d-af77-3ec3496d81c8",
   "metadata": {
    "editable": true,
    "slideshow": {
     "slide_type": ""
    },
    "tags": []
   },
   "source": [
    "### Probably wrong gamma activity\n",
    "bb0nu\n",
    "```julia\n",
    "(\n",
    "    phi = (3, 180), \n",
    "    sumE = (2700, 3100), \n",
    "    dy = (0.0, 100.0), \n",
    "    dz = (0.0, 105.0), \n",
    "    lPint = (0, 4.0), # Pint > 0.01 \n",
    "    lPext = (0.325, 100), # Pext < 0.45\n",
    "    4.13e24, \n",
    "    0.17, \n",
    "    1.6\n",
    ")\n",
    "```\n",
    "\n",
    "bb0nuM1\n",
    "```julia\n",
    "(\n",
    "    phi = (8, 180.0), \n",
    "    sumE = (2500, 3050), \n",
    "    dy = (0.0, 100.0), \n",
    "    dz = (0.0, 100.0), \n",
    "    lPint = (0, 6),  # Pint > 1e-8\n",
    "    lPext = (0.325, 100), # Pext < 0.45\n",
    "    1.61e23,\n",
    "    0.02,\n",
    "    29.24\n",
    ")\n",
    "```\n",
    "\n",
    "bb0nuM2\n",
    "```julia\n",
    "(\n",
    "    phi = (0, 180), \n",
    "    sumE = (1150, 3500), \n",
    "    dy = (0.0, 100), \n",
    "    dz = (0, 100), \n",
    "    lPint = (0, 5), \n",
    "    lPext = (0.0, 100),\n",
    "    2.55e22,\n",
    "    0.12,\n",
    "    6180.97\n",
    ")\n",
    "```"
   ]
  },
  {
   "cell_type": "markdown",
   "id": "f4ecd22e-72ee-41ce-a611-d5a632f54886",
   "metadata": {},
   "source": [
    "RH\n",
    "```julia\n",
    "((phi = (2.0, 175.0), sumE = (95.0, 3003.0), r = (1.0, 80.0)), 1.2919311994819359e22, 0.08111526, 115520.49989921192)\n",
    "```"
   ]
  },
  {
   "cell_type": "code",
   "execution_count": 7,
   "id": "476c0e48-8823-46b6-80da-eb46869789c1",
   "metadata": {},
   "outputs": [
    {
     "data": {
      "text/plain": [
       "1.0e-6"
      ]
     },
     "execution_count": 7,
     "metadata": {},
     "output_type": "execute_result"
    }
   ],
   "source": [
    "10^(-6)"
   ]
  },
  {
   "cell_type": "markdown",
   "id": "60287387-074f-4593-a109-d8cd1c42541c",
   "metadata": {},
   "source": [
    "### Correct gamma activity?\n",
    "bb0nu\n",
    "```julia\n",
    "(\n",
    "    phi = (0.0, 180.0), \n",
    "    sumE = (2700.0, 3100.0), \n",
    "    dy = (0.0, 100.0), \n",
    "    dz = (0.0, 105.0), \n",
    "    lPint = (0.0, 3.0), \n",
    "    lPext = (1.045, 100.0),    \n",
    "    3.54e24, \n",
    "    0.17, \n",
    "    2.4\n",
    ")\n",
    "```\n",
    "\n"
   ]
  },
  {
   "cell_type": "code",
   "execution_count": null,
   "id": "99cc8657-b8ac-46db-8783-a6a06f0f8bce",
   "metadata": {},
   "outputs": [],
   "source": []
  }
 ],
 "metadata": {
  "kernelspec": {
   "display_name": "Julia 1.10.3",
   "language": "julia",
   "name": "julia-1.10"
  },
  "language_info": {
   "file_extension": ".jl",
   "mimetype": "application/julia",
   "name": "julia",
   "version": "1.10.3"
  }
 },
 "nbformat": 4,
 "nbformat_minor": 5
}
